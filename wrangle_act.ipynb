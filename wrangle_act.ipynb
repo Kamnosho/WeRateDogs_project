{
 "cells": [
  {
   "cell_type": "markdown",
   "metadata": {},
   "source": [
    "# Gathering"
   ]
  },
  {
   "cell_type": "code",
   "execution_count": 1,
   "metadata": {},
   "outputs": [],
   "source": [
    "# importing liberaries:\n",
    "import pandas as pd\n",
    "import numpy as np\n",
    "import requests as r\n",
    "import json\n",
    "import os\n",
    "import matplotlib.pyplot as plt\n",
    "%matplotlib inline\n",
    "import seaborn as sns\n",
    "import re\n"
   ]
  },
  {
   "cell_type": "code",
   "execution_count": 2,
   "metadata": {},
   "outputs": [],
   "source": [
    "import warnings\n",
    "warnings.filterwarnings('ignore')"
   ]
  },
  {
   "cell_type": "code",
   "execution_count": 3,
   "metadata": {},
   "outputs": [
    {
     "data": {
      "text/html": [
       "<div>\n",
       "<style scoped>\n",
       "    .dataframe tbody tr th:only-of-type {\n",
       "        vertical-align: middle;\n",
       "    }\n",
       "\n",
       "    .dataframe tbody tr th {\n",
       "        vertical-align: top;\n",
       "    }\n",
       "\n",
       "    .dataframe thead th {\n",
       "        text-align: right;\n",
       "    }\n",
       "</style>\n",
       "<table border=\"1\" class=\"dataframe\">\n",
       "  <thead>\n",
       "    <tr style=\"text-align: right;\">\n",
       "      <th></th>\n",
       "      <th>tweet_id</th>\n",
       "      <th>in_reply_to_status_id</th>\n",
       "      <th>in_reply_to_user_id</th>\n",
       "      <th>timestamp</th>\n",
       "      <th>source</th>\n",
       "      <th>text</th>\n",
       "      <th>retweeted_status_id</th>\n",
       "      <th>retweeted_status_user_id</th>\n",
       "      <th>retweeted_status_timestamp</th>\n",
       "      <th>expanded_urls</th>\n",
       "      <th>rating_numerator</th>\n",
       "      <th>rating_denominator</th>\n",
       "      <th>name</th>\n",
       "      <th>doggo</th>\n",
       "      <th>floofer</th>\n",
       "      <th>pupper</th>\n",
       "      <th>puppo</th>\n",
       "    </tr>\n",
       "  </thead>\n",
       "  <tbody>\n",
       "    <tr>\n",
       "      <th>0</th>\n",
       "      <td>892420643555336193</td>\n",
       "      <td>NaN</td>\n",
       "      <td>NaN</td>\n",
       "      <td>2017-08-01 16:23:56 +0000</td>\n",
       "      <td>&lt;a href=\"http://twitter.com/download/iphone\" r...</td>\n",
       "      <td>This is Phineas. He's a mystical boy. Only eve...</td>\n",
       "      <td>NaN</td>\n",
       "      <td>NaN</td>\n",
       "      <td>NaN</td>\n",
       "      <td>https://twitter.com/dog_rates/status/892420643...</td>\n",
       "      <td>13</td>\n",
       "      <td>10</td>\n",
       "      <td>Phineas</td>\n",
       "      <td>None</td>\n",
       "      <td>None</td>\n",
       "      <td>None</td>\n",
       "      <td>None</td>\n",
       "    </tr>\n",
       "    <tr>\n",
       "      <th>1</th>\n",
       "      <td>892177421306343426</td>\n",
       "      <td>NaN</td>\n",
       "      <td>NaN</td>\n",
       "      <td>2017-08-01 00:17:27 +0000</td>\n",
       "      <td>&lt;a href=\"http://twitter.com/download/iphone\" r...</td>\n",
       "      <td>This is Tilly. She's just checking pup on you....</td>\n",
       "      <td>NaN</td>\n",
       "      <td>NaN</td>\n",
       "      <td>NaN</td>\n",
       "      <td>https://twitter.com/dog_rates/status/892177421...</td>\n",
       "      <td>13</td>\n",
       "      <td>10</td>\n",
       "      <td>Tilly</td>\n",
       "      <td>None</td>\n",
       "      <td>None</td>\n",
       "      <td>None</td>\n",
       "      <td>None</td>\n",
       "    </tr>\n",
       "    <tr>\n",
       "      <th>2</th>\n",
       "      <td>891815181378084864</td>\n",
       "      <td>NaN</td>\n",
       "      <td>NaN</td>\n",
       "      <td>2017-07-31 00:18:03 +0000</td>\n",
       "      <td>&lt;a href=\"http://twitter.com/download/iphone\" r...</td>\n",
       "      <td>This is Archie. He is a rare Norwegian Pouncin...</td>\n",
       "      <td>NaN</td>\n",
       "      <td>NaN</td>\n",
       "      <td>NaN</td>\n",
       "      <td>https://twitter.com/dog_rates/status/891815181...</td>\n",
       "      <td>12</td>\n",
       "      <td>10</td>\n",
       "      <td>Archie</td>\n",
       "      <td>None</td>\n",
       "      <td>None</td>\n",
       "      <td>None</td>\n",
       "      <td>None</td>\n",
       "    </tr>\n",
       "  </tbody>\n",
       "</table>\n",
       "</div>"
      ],
      "text/plain": [
       "             tweet_id  in_reply_to_status_id  in_reply_to_user_id  \\\n",
       "0  892420643555336193                    NaN                  NaN   \n",
       "1  892177421306343426                    NaN                  NaN   \n",
       "2  891815181378084864                    NaN                  NaN   \n",
       "\n",
       "                   timestamp  \\\n",
       "0  2017-08-01 16:23:56 +0000   \n",
       "1  2017-08-01 00:17:27 +0000   \n",
       "2  2017-07-31 00:18:03 +0000   \n",
       "\n",
       "                                              source  \\\n",
       "0  <a href=\"http://twitter.com/download/iphone\" r...   \n",
       "1  <a href=\"http://twitter.com/download/iphone\" r...   \n",
       "2  <a href=\"http://twitter.com/download/iphone\" r...   \n",
       "\n",
       "                                                text  retweeted_status_id  \\\n",
       "0  This is Phineas. He's a mystical boy. Only eve...                  NaN   \n",
       "1  This is Tilly. She's just checking pup on you....                  NaN   \n",
       "2  This is Archie. He is a rare Norwegian Pouncin...                  NaN   \n",
       "\n",
       "   retweeted_status_user_id retweeted_status_timestamp  \\\n",
       "0                       NaN                        NaN   \n",
       "1                       NaN                        NaN   \n",
       "2                       NaN                        NaN   \n",
       "\n",
       "                                       expanded_urls  rating_numerator  \\\n",
       "0  https://twitter.com/dog_rates/status/892420643...                13   \n",
       "1  https://twitter.com/dog_rates/status/892177421...                13   \n",
       "2  https://twitter.com/dog_rates/status/891815181...                12   \n",
       "\n",
       "   rating_denominator     name doggo floofer pupper puppo  \n",
       "0                  10  Phineas  None    None   None  None  \n",
       "1                  10    Tilly  None    None   None  None  \n",
       "2                  10   Archie  None    None   None  None  "
      ]
     },
     "execution_count": 3,
     "metadata": {},
     "output_type": "execute_result"
    }
   ],
   "source": [
    "# importing and testing WeRateDogs twitter archive from file:\n",
    "archive_df = pd.read_csv('twitter-archive-enhanced.csv')\n",
    "archive_df.head(3)"
   ]
  },
  {
   "cell_type": "code",
   "execution_count": 4,
   "metadata": {},
   "outputs": [],
   "source": [
    "# Downloading image prediction from UDACITY's servers:\n",
    "url = 'https://d17h27t6h515a5.cloudfront.net/topher/2017/August/599fd2ad_image-predictions/image-predictions.tsv'\n",
    "response = r.get(url)\n",
    "name = url.split('/')[-1]\n",
    "if not os.path.exists(name):\n",
    "    with open(name, mode='wb') as file:\n",
    "        file.write(response.content)"
   ]
  },
  {
   "cell_type": "code",
   "execution_count": 5,
   "metadata": {},
   "outputs": [
    {
     "data": {
      "text/html": [
       "<div>\n",
       "<style scoped>\n",
       "    .dataframe tbody tr th:only-of-type {\n",
       "        vertical-align: middle;\n",
       "    }\n",
       "\n",
       "    .dataframe tbody tr th {\n",
       "        vertical-align: top;\n",
       "    }\n",
       "\n",
       "    .dataframe thead th {\n",
       "        text-align: right;\n",
       "    }\n",
       "</style>\n",
       "<table border=\"1\" class=\"dataframe\">\n",
       "  <thead>\n",
       "    <tr style=\"text-align: right;\">\n",
       "      <th></th>\n",
       "      <th>tweet_id</th>\n",
       "      <th>jpg_url</th>\n",
       "      <th>img_num</th>\n",
       "      <th>p1</th>\n",
       "      <th>p1_conf</th>\n",
       "      <th>p1_dog</th>\n",
       "      <th>p2</th>\n",
       "      <th>p2_conf</th>\n",
       "      <th>p2_dog</th>\n",
       "      <th>p3</th>\n",
       "      <th>p3_conf</th>\n",
       "      <th>p3_dog</th>\n",
       "    </tr>\n",
       "  </thead>\n",
       "  <tbody>\n",
       "    <tr>\n",
       "      <th>0</th>\n",
       "      <td>666020888022790149</td>\n",
       "      <td>https://pbs.twimg.com/media/CT4udn0WwAA0aMy.jpg</td>\n",
       "      <td>1</td>\n",
       "      <td>Welsh_springer_spaniel</td>\n",
       "      <td>0.465074</td>\n",
       "      <td>True</td>\n",
       "      <td>collie</td>\n",
       "      <td>0.156665</td>\n",
       "      <td>True</td>\n",
       "      <td>Shetland_sheepdog</td>\n",
       "      <td>0.061428</td>\n",
       "      <td>True</td>\n",
       "    </tr>\n",
       "    <tr>\n",
       "      <th>1</th>\n",
       "      <td>666029285002620928</td>\n",
       "      <td>https://pbs.twimg.com/media/CT42GRgUYAA5iDo.jpg</td>\n",
       "      <td>1</td>\n",
       "      <td>redbone</td>\n",
       "      <td>0.506826</td>\n",
       "      <td>True</td>\n",
       "      <td>miniature_pinscher</td>\n",
       "      <td>0.074192</td>\n",
       "      <td>True</td>\n",
       "      <td>Rhodesian_ridgeback</td>\n",
       "      <td>0.072010</td>\n",
       "      <td>True</td>\n",
       "    </tr>\n",
       "    <tr>\n",
       "      <th>2</th>\n",
       "      <td>666033412701032449</td>\n",
       "      <td>https://pbs.twimg.com/media/CT4521TWwAEvMyu.jpg</td>\n",
       "      <td>1</td>\n",
       "      <td>German_shepherd</td>\n",
       "      <td>0.596461</td>\n",
       "      <td>True</td>\n",
       "      <td>malinois</td>\n",
       "      <td>0.138584</td>\n",
       "      <td>True</td>\n",
       "      <td>bloodhound</td>\n",
       "      <td>0.116197</td>\n",
       "      <td>True</td>\n",
       "    </tr>\n",
       "  </tbody>\n",
       "</table>\n",
       "</div>"
      ],
      "text/plain": [
       "             tweet_id                                          jpg_url  \\\n",
       "0  666020888022790149  https://pbs.twimg.com/media/CT4udn0WwAA0aMy.jpg   \n",
       "1  666029285002620928  https://pbs.twimg.com/media/CT42GRgUYAA5iDo.jpg   \n",
       "2  666033412701032449  https://pbs.twimg.com/media/CT4521TWwAEvMyu.jpg   \n",
       "\n",
       "   img_num                      p1   p1_conf  p1_dog                  p2  \\\n",
       "0        1  Welsh_springer_spaniel  0.465074    True              collie   \n",
       "1        1                 redbone  0.506826    True  miniature_pinscher   \n",
       "2        1         German_shepherd  0.596461    True            malinois   \n",
       "\n",
       "    p2_conf  p2_dog                   p3   p3_conf  p3_dog  \n",
       "0  0.156665    True    Shetland_sheepdog  0.061428    True  \n",
       "1  0.074192    True  Rhodesian_ridgeback  0.072010    True  \n",
       "2  0.138584    True           bloodhound  0.116197    True  "
      ]
     },
     "execution_count": 5,
     "metadata": {},
     "output_type": "execute_result"
    }
   ],
   "source": [
    "# importing and testing image-prediction into dataframe:\n",
    "df_image_predictions = pd.read_csv('image-predictions.tsv', sep='\\t')\n",
    "df_image_predictions.head(3)"
   ]
  },
  {
   "cell_type": "markdown",
   "metadata": {},
   "source": [
    "#### To_do: create DataFrame with (at minimum) tweet ID, retweet count, and favorite count\n",
    "1) Using the tweet IDs in the WeRateDogs Twitter archive, query the Twitter API for each tweet's JSON data using Python's Tweepy library store each tweet's entire set of JSON data in a file called tweet_json.txt file.\n",
    "\n",
    "2) read this .txt file line by line into a pandas DataFrame to extract (tweet ID, retweet count, and favorite count).\n",
    "\n",
    "3) save to dataframe df_tweet_action "
   ]
  },
  {
   "cell_type": "markdown",
   "metadata": {},
   "source": [
    "### using tweet_json.txt provided in classroom"
   ]
  },
  {
   "cell_type": "code",
   "execution_count": 6,
   "metadata": {},
   "outputs": [
    {
     "data": {
      "text/plain": [
       "{'created_at': 'Tue Aug 01 16:23:56 +0000 2017',\n",
       " 'id': 892420643555336193,\n",
       " 'id_str': '892420643555336193',\n",
       " 'full_text': \"This is Phineas. He's a mystical boy. Only ever appears in the hole of a donut. 13/10 https://t.co/MgUWQ76dJU\",\n",
       " 'truncated': False,\n",
       " 'display_text_range': [0, 85],\n",
       " 'entities': {'hashtags': [],\n",
       "  'symbols': [],\n",
       "  'user_mentions': [],\n",
       "  'urls': [],\n",
       "  'media': [{'id': 892420639486877696,\n",
       "    'id_str': '892420639486877696',\n",
       "    'indices': [86, 109],\n",
       "    'media_url': 'http://pbs.twimg.com/media/DGKD1-bXoAAIAUK.jpg',\n",
       "    'media_url_https': 'https://pbs.twimg.com/media/DGKD1-bXoAAIAUK.jpg',\n",
       "    'url': 'https://t.co/MgUWQ76dJU',\n",
       "    'display_url': 'pic.twitter.com/MgUWQ76dJU',\n",
       "    'expanded_url': 'https://twitter.com/dog_rates/status/892420643555336193/photo/1',\n",
       "    'type': 'photo',\n",
       "    'sizes': {'large': {'w': 540, 'h': 528, 'resize': 'fit'},\n",
       "     'thumb': {'w': 150, 'h': 150, 'resize': 'crop'},\n",
       "     'small': {'w': 540, 'h': 528, 'resize': 'fit'},\n",
       "     'medium': {'w': 540, 'h': 528, 'resize': 'fit'}}}]},\n",
       " 'extended_entities': {'media': [{'id': 892420639486877696,\n",
       "    'id_str': '892420639486877696',\n",
       "    'indices': [86, 109],\n",
       "    'media_url': 'http://pbs.twimg.com/media/DGKD1-bXoAAIAUK.jpg',\n",
       "    'media_url_https': 'https://pbs.twimg.com/media/DGKD1-bXoAAIAUK.jpg',\n",
       "    'url': 'https://t.co/MgUWQ76dJU',\n",
       "    'display_url': 'pic.twitter.com/MgUWQ76dJU',\n",
       "    'expanded_url': 'https://twitter.com/dog_rates/status/892420643555336193/photo/1',\n",
       "    'type': 'photo',\n",
       "    'sizes': {'large': {'w': 540, 'h': 528, 'resize': 'fit'},\n",
       "     'thumb': {'w': 150, 'h': 150, 'resize': 'crop'},\n",
       "     'small': {'w': 540, 'h': 528, 'resize': 'fit'},\n",
       "     'medium': {'w': 540, 'h': 528, 'resize': 'fit'}}}]},\n",
       " 'source': '<a href=\"http://twitter.com/download/iphone\" rel=\"nofollow\">Twitter for iPhone</a>',\n",
       " 'in_reply_to_status_id': None,\n",
       " 'in_reply_to_status_id_str': None,\n",
       " 'in_reply_to_user_id': None,\n",
       " 'in_reply_to_user_id_str': None,\n",
       " 'in_reply_to_screen_name': None,\n",
       " 'user': {'id': 4196983835,\n",
       "  'id_str': '4196983835',\n",
       "  'name': 'WeRateDogs™ (author)',\n",
       "  'screen_name': 'dog_rates',\n",
       "  'location': 'DM YOUR DOGS, WE WILL RATE',\n",
       "  'description': '#1 Source for Professional Dog Ratings | STORE: @ShopWeRateDogs | IG, FB & SC: WeRateDogs MOBILE APP: @GoodDogsGame | Business: dogratingtwitter@gmail.com',\n",
       "  'url': 'https://t.co/N7sNNHAEXS',\n",
       "  'entities': {'url': {'urls': [{'url': 'https://t.co/N7sNNHAEXS',\n",
       "      'expanded_url': 'http://weratedogs.com',\n",
       "      'display_url': 'weratedogs.com',\n",
       "      'indices': [0, 23]}]},\n",
       "   'description': {'urls': []}},\n",
       "  'protected': False,\n",
       "  'followers_count': 3200889,\n",
       "  'friends_count': 104,\n",
       "  'listed_count': 2784,\n",
       "  'created_at': 'Sun Nov 15 21:41:29 +0000 2015',\n",
       "  'favourites_count': 114031,\n",
       "  'utc_offset': None,\n",
       "  'time_zone': None,\n",
       "  'geo_enabled': True,\n",
       "  'verified': True,\n",
       "  'statuses_count': 5288,\n",
       "  'lang': 'en',\n",
       "  'contributors_enabled': False,\n",
       "  'is_translator': False,\n",
       "  'is_translation_enabled': False,\n",
       "  'profile_background_color': '000000',\n",
       "  'profile_background_image_url': 'http://abs.twimg.com/images/themes/theme1/bg.png',\n",
       "  'profile_background_image_url_https': 'https://abs.twimg.com/images/themes/theme1/bg.png',\n",
       "  'profile_background_tile': False,\n",
       "  'profile_image_url': 'http://pbs.twimg.com/profile_images/861415328504569856/R2xOOfwe_normal.jpg',\n",
       "  'profile_image_url_https': 'https://pbs.twimg.com/profile_images/861415328504569856/R2xOOfwe_normal.jpg',\n",
       "  'profile_banner_url': 'https://pbs.twimg.com/profile_banners/4196983835/1501129017',\n",
       "  'profile_link_color': 'F5ABB5',\n",
       "  'profile_sidebar_border_color': '000000',\n",
       "  'profile_sidebar_fill_color': '000000',\n",
       "  'profile_text_color': '000000',\n",
       "  'profile_use_background_image': False,\n",
       "  'has_extended_profile': True,\n",
       "  'default_profile': False,\n",
       "  'default_profile_image': False,\n",
       "  'following': True,\n",
       "  'follow_request_sent': False,\n",
       "  'notifications': False,\n",
       "  'translator_type': 'none'},\n",
       " 'geo': None,\n",
       " 'coordinates': None,\n",
       " 'place': None,\n",
       " 'contributors': None,\n",
       " 'is_quote_status': False,\n",
       " 'retweet_count': 8853,\n",
       " 'favorite_count': 39467,\n",
       " 'favorited': False,\n",
       " 'retweeted': False,\n",
       " 'possibly_sensitive': False,\n",
       " 'possibly_sensitive_appealable': False,\n",
       " 'lang': 'en'}"
      ]
     },
     "execution_count": 6,
     "metadata": {},
     "output_type": "execute_result"
    }
   ],
   "source": [
    "#explore tweet-json structure and available data\n",
    "with open('tweet-json.txt', 'r') as file:\n",
    "    for line in file:\n",
    "        explore = json.loads(line)\n",
    "        break\n",
    "explore"
   ]
  },
  {
   "cell_type": "code",
   "execution_count": 7,
   "metadata": {},
   "outputs": [
    {
     "data": {
      "text/plain": [
       "dict_keys(['created_at', 'id', 'id_str', 'full_text', 'truncated', 'display_text_range', 'entities', 'extended_entities', 'source', 'in_reply_to_status_id', 'in_reply_to_status_id_str', 'in_reply_to_user_id', 'in_reply_to_user_id_str', 'in_reply_to_screen_name', 'user', 'geo', 'coordinates', 'place', 'contributors', 'is_quote_status', 'retweet_count', 'favorite_count', 'favorited', 'retweeted', 'possibly_sensitive', 'possibly_sensitive_appealable', 'lang'])"
      ]
     },
     "execution_count": 7,
     "metadata": {},
     "output_type": "execute_result"
    }
   ],
   "source": [
    "explore.keys()"
   ]
  },
  {
   "cell_type": "code",
   "execution_count": 8,
   "metadata": {},
   "outputs": [
    {
     "data": {
      "text/plain": [
       "dict_keys(['id', 'id_str', 'name', 'screen_name', 'location', 'description', 'url', 'entities', 'protected', 'followers_count', 'friends_count', 'listed_count', 'created_at', 'favourites_count', 'utc_offset', 'time_zone', 'geo_enabled', 'verified', 'statuses_count', 'lang', 'contributors_enabled', 'is_translator', 'is_translation_enabled', 'profile_background_color', 'profile_background_image_url', 'profile_background_image_url_https', 'profile_background_tile', 'profile_image_url', 'profile_image_url_https', 'profile_banner_url', 'profile_link_color', 'profile_sidebar_border_color', 'profile_sidebar_fill_color', 'profile_text_color', 'profile_use_background_image', 'has_extended_profile', 'default_profile', 'default_profile_image', 'following', 'follow_request_sent', 'notifications', 'translator_type'])"
      ]
     },
     "execution_count": 8,
     "metadata": {},
     "output_type": "execute_result"
    }
   ],
   "source": [
    "explore['user'].keys()"
   ]
  },
  {
   "cell_type": "code",
   "execution_count": 9,
   "metadata": {},
   "outputs": [
    {
     "name": "stdout",
     "output_type": "stream",
     "text": [
      "<class 'pandas.core.frame.DataFrame'>\n",
      "RangeIndex: 2354 entries, 0 to 2353\n",
      "Data columns (total 6 columns):\n",
      " #   Column          Non-Null Count  Dtype \n",
      "---  ------          --------------  ----- \n",
      " 0   tweet_id        2354 non-null   object\n",
      " 1   favorite_count  2354 non-null   int64 \n",
      " 2   retweet_count   2354 non-null   int64 \n",
      " 3   created_at      2354 non-null   object\n",
      " 4   user_count      2354 non-null   int64 \n",
      " 5   quote_status    2354 non-null   bool  \n",
      "dtypes: bool(1), int64(3), object(2)\n",
      "memory usage: 94.4+ KB\n"
     ]
    }
   ],
   "source": [
    "# read tweet_json.txt file and export needed data into df_api_info:\n",
    "#collecting tweet ID, retweet count, and favorite count from twitter_json data\n",
    "import json\n",
    "_list = []\n",
    "with open('tweet-json.txt', 'r') as file:\n",
    "    for line in file:\n",
    "        tweet = json.loads(line)\n",
    "        tweet_id = tweet['id_str']\n",
    "        tweet_txt = tweet['full_text']\n",
    "        favorite_count = tweet['favorite_count']\n",
    "        retweet_count = tweet['retweet_count']\n",
    "        quote_status = tweet['is_quote_status']\n",
    "        created_at = tweet['created_at']\n",
    "        user_count = tweet['user']['followers_count']\n",
    "        #append to list \n",
    "        _list.append({'tweet_id': str(tweet_id),'favorite_count': int(favorite_count),\n",
    "                      'retweet_count': int(retweet_count),'created_at': created_at,\n",
    "                      'user_count': user_count,'quote_status': quote_status\n",
    "                     })\n",
    "        tweet_json = pd.DataFrame(_list, columns = ['tweet_id', 'favorite_count','retweet_count',\n",
    "                                                    'created_at','user_count'])\n",
    "#create DataFrame\n",
    "df_api_info = pd.DataFrame(_list)\n",
    "df_api_info.info()"
   ]
  },
  {
   "cell_type": "markdown",
   "metadata": {},
   "source": [
    "# Assess"
   ]
  },
  {
   "cell_type": "markdown",
   "metadata": {},
   "source": [
    "1) Assess visually\n",
    "2) Assess programatically\n",
    "3) record tidiness and quality issues"
   ]
  },
  {
   "cell_type": "markdown",
   "metadata": {},
   "source": [
    "### First: data collected from twitter archive"
   ]
  },
  {
   "cell_type": "code",
   "execution_count": 10,
   "metadata": {},
   "outputs": [
    {
     "data": {
      "text/html": [
       "<div>\n",
       "<style scoped>\n",
       "    .dataframe tbody tr th:only-of-type {\n",
       "        vertical-align: middle;\n",
       "    }\n",
       "\n",
       "    .dataframe tbody tr th {\n",
       "        vertical-align: top;\n",
       "    }\n",
       "\n",
       "    .dataframe thead th {\n",
       "        text-align: right;\n",
       "    }\n",
       "</style>\n",
       "<table border=\"1\" class=\"dataframe\">\n",
       "  <thead>\n",
       "    <tr style=\"text-align: right;\">\n",
       "      <th></th>\n",
       "      <th>tweet_id</th>\n",
       "      <th>in_reply_to_status_id</th>\n",
       "      <th>in_reply_to_user_id</th>\n",
       "      <th>timestamp</th>\n",
       "      <th>source</th>\n",
       "      <th>text</th>\n",
       "      <th>retweeted_status_id</th>\n",
       "      <th>retweeted_status_user_id</th>\n",
       "      <th>retweeted_status_timestamp</th>\n",
       "      <th>expanded_urls</th>\n",
       "      <th>rating_numerator</th>\n",
       "      <th>rating_denominator</th>\n",
       "      <th>name</th>\n",
       "      <th>doggo</th>\n",
       "      <th>floofer</th>\n",
       "      <th>pupper</th>\n",
       "      <th>puppo</th>\n",
       "    </tr>\n",
       "  </thead>\n",
       "  <tbody>\n",
       "    <tr>\n",
       "      <th>0</th>\n",
       "      <td>892420643555336193</td>\n",
       "      <td>NaN</td>\n",
       "      <td>NaN</td>\n",
       "      <td>2017-08-01 16:23:56 +0000</td>\n",
       "      <td>&lt;a href=\"http://twitter.com/download/iphone\" r...</td>\n",
       "      <td>This is Phineas. He's a mystical boy. Only eve...</td>\n",
       "      <td>NaN</td>\n",
       "      <td>NaN</td>\n",
       "      <td>NaN</td>\n",
       "      <td>https://twitter.com/dog_rates/status/892420643...</td>\n",
       "      <td>13</td>\n",
       "      <td>10</td>\n",
       "      <td>Phineas</td>\n",
       "      <td>None</td>\n",
       "      <td>None</td>\n",
       "      <td>None</td>\n",
       "      <td>None</td>\n",
       "    </tr>\n",
       "    <tr>\n",
       "      <th>1</th>\n",
       "      <td>892177421306343426</td>\n",
       "      <td>NaN</td>\n",
       "      <td>NaN</td>\n",
       "      <td>2017-08-01 00:17:27 +0000</td>\n",
       "      <td>&lt;a href=\"http://twitter.com/download/iphone\" r...</td>\n",
       "      <td>This is Tilly. She's just checking pup on you....</td>\n",
       "      <td>NaN</td>\n",
       "      <td>NaN</td>\n",
       "      <td>NaN</td>\n",
       "      <td>https://twitter.com/dog_rates/status/892177421...</td>\n",
       "      <td>13</td>\n",
       "      <td>10</td>\n",
       "      <td>Tilly</td>\n",
       "      <td>None</td>\n",
       "      <td>None</td>\n",
       "      <td>None</td>\n",
       "      <td>None</td>\n",
       "    </tr>\n",
       "    <tr>\n",
       "      <th>2</th>\n",
       "      <td>891815181378084864</td>\n",
       "      <td>NaN</td>\n",
       "      <td>NaN</td>\n",
       "      <td>2017-07-31 00:18:03 +0000</td>\n",
       "      <td>&lt;a href=\"http://twitter.com/download/iphone\" r...</td>\n",
       "      <td>This is Archie. He is a rare Norwegian Pouncin...</td>\n",
       "      <td>NaN</td>\n",
       "      <td>NaN</td>\n",
       "      <td>NaN</td>\n",
       "      <td>https://twitter.com/dog_rates/status/891815181...</td>\n",
       "      <td>12</td>\n",
       "      <td>10</td>\n",
       "      <td>Archie</td>\n",
       "      <td>None</td>\n",
       "      <td>None</td>\n",
       "      <td>None</td>\n",
       "      <td>None</td>\n",
       "    </tr>\n",
       "    <tr>\n",
       "      <th>3</th>\n",
       "      <td>891689557279858688</td>\n",
       "      <td>NaN</td>\n",
       "      <td>NaN</td>\n",
       "      <td>2017-07-30 15:58:51 +0000</td>\n",
       "      <td>&lt;a href=\"http://twitter.com/download/iphone\" r...</td>\n",
       "      <td>This is Darla. She commenced a snooze mid meal...</td>\n",
       "      <td>NaN</td>\n",
       "      <td>NaN</td>\n",
       "      <td>NaN</td>\n",
       "      <td>https://twitter.com/dog_rates/status/891689557...</td>\n",
       "      <td>13</td>\n",
       "      <td>10</td>\n",
       "      <td>Darla</td>\n",
       "      <td>None</td>\n",
       "      <td>None</td>\n",
       "      <td>None</td>\n",
       "      <td>None</td>\n",
       "    </tr>\n",
       "    <tr>\n",
       "      <th>4</th>\n",
       "      <td>891327558926688256</td>\n",
       "      <td>NaN</td>\n",
       "      <td>NaN</td>\n",
       "      <td>2017-07-29 16:00:24 +0000</td>\n",
       "      <td>&lt;a href=\"http://twitter.com/download/iphone\" r...</td>\n",
       "      <td>This is Franklin. He would like you to stop ca...</td>\n",
       "      <td>NaN</td>\n",
       "      <td>NaN</td>\n",
       "      <td>NaN</td>\n",
       "      <td>https://twitter.com/dog_rates/status/891327558...</td>\n",
       "      <td>12</td>\n",
       "      <td>10</td>\n",
       "      <td>Franklin</td>\n",
       "      <td>None</td>\n",
       "      <td>None</td>\n",
       "      <td>None</td>\n",
       "      <td>None</td>\n",
       "    </tr>\n",
       "    <tr>\n",
       "      <th>...</th>\n",
       "      <td>...</td>\n",
       "      <td>...</td>\n",
       "      <td>...</td>\n",
       "      <td>...</td>\n",
       "      <td>...</td>\n",
       "      <td>...</td>\n",
       "      <td>...</td>\n",
       "      <td>...</td>\n",
       "      <td>...</td>\n",
       "      <td>...</td>\n",
       "      <td>...</td>\n",
       "      <td>...</td>\n",
       "      <td>...</td>\n",
       "      <td>...</td>\n",
       "      <td>...</td>\n",
       "      <td>...</td>\n",
       "      <td>...</td>\n",
       "    </tr>\n",
       "    <tr>\n",
       "      <th>2351</th>\n",
       "      <td>666049248165822465</td>\n",
       "      <td>NaN</td>\n",
       "      <td>NaN</td>\n",
       "      <td>2015-11-16 00:24:50 +0000</td>\n",
       "      <td>&lt;a href=\"http://twitter.com/download/iphone\" r...</td>\n",
       "      <td>Here we have a 1949 1st generation vulpix. Enj...</td>\n",
       "      <td>NaN</td>\n",
       "      <td>NaN</td>\n",
       "      <td>NaN</td>\n",
       "      <td>https://twitter.com/dog_rates/status/666049248...</td>\n",
       "      <td>5</td>\n",
       "      <td>10</td>\n",
       "      <td>None</td>\n",
       "      <td>None</td>\n",
       "      <td>None</td>\n",
       "      <td>None</td>\n",
       "      <td>None</td>\n",
       "    </tr>\n",
       "    <tr>\n",
       "      <th>2352</th>\n",
       "      <td>666044226329800704</td>\n",
       "      <td>NaN</td>\n",
       "      <td>NaN</td>\n",
       "      <td>2015-11-16 00:04:52 +0000</td>\n",
       "      <td>&lt;a href=\"http://twitter.com/download/iphone\" r...</td>\n",
       "      <td>This is a purebred Piers Morgan. Loves to Netf...</td>\n",
       "      <td>NaN</td>\n",
       "      <td>NaN</td>\n",
       "      <td>NaN</td>\n",
       "      <td>https://twitter.com/dog_rates/status/666044226...</td>\n",
       "      <td>6</td>\n",
       "      <td>10</td>\n",
       "      <td>a</td>\n",
       "      <td>None</td>\n",
       "      <td>None</td>\n",
       "      <td>None</td>\n",
       "      <td>None</td>\n",
       "    </tr>\n",
       "    <tr>\n",
       "      <th>2353</th>\n",
       "      <td>666033412701032449</td>\n",
       "      <td>NaN</td>\n",
       "      <td>NaN</td>\n",
       "      <td>2015-11-15 23:21:54 +0000</td>\n",
       "      <td>&lt;a href=\"http://twitter.com/download/iphone\" r...</td>\n",
       "      <td>Here is a very happy pup. Big fan of well-main...</td>\n",
       "      <td>NaN</td>\n",
       "      <td>NaN</td>\n",
       "      <td>NaN</td>\n",
       "      <td>https://twitter.com/dog_rates/status/666033412...</td>\n",
       "      <td>9</td>\n",
       "      <td>10</td>\n",
       "      <td>a</td>\n",
       "      <td>None</td>\n",
       "      <td>None</td>\n",
       "      <td>None</td>\n",
       "      <td>None</td>\n",
       "    </tr>\n",
       "    <tr>\n",
       "      <th>2354</th>\n",
       "      <td>666029285002620928</td>\n",
       "      <td>NaN</td>\n",
       "      <td>NaN</td>\n",
       "      <td>2015-11-15 23:05:30 +0000</td>\n",
       "      <td>&lt;a href=\"http://twitter.com/download/iphone\" r...</td>\n",
       "      <td>This is a western brown Mitsubishi terrier. Up...</td>\n",
       "      <td>NaN</td>\n",
       "      <td>NaN</td>\n",
       "      <td>NaN</td>\n",
       "      <td>https://twitter.com/dog_rates/status/666029285...</td>\n",
       "      <td>7</td>\n",
       "      <td>10</td>\n",
       "      <td>a</td>\n",
       "      <td>None</td>\n",
       "      <td>None</td>\n",
       "      <td>None</td>\n",
       "      <td>None</td>\n",
       "    </tr>\n",
       "    <tr>\n",
       "      <th>2355</th>\n",
       "      <td>666020888022790149</td>\n",
       "      <td>NaN</td>\n",
       "      <td>NaN</td>\n",
       "      <td>2015-11-15 22:32:08 +0000</td>\n",
       "      <td>&lt;a href=\"http://twitter.com/download/iphone\" r...</td>\n",
       "      <td>Here we have a Japanese Irish Setter. Lost eye...</td>\n",
       "      <td>NaN</td>\n",
       "      <td>NaN</td>\n",
       "      <td>NaN</td>\n",
       "      <td>https://twitter.com/dog_rates/status/666020888...</td>\n",
       "      <td>8</td>\n",
       "      <td>10</td>\n",
       "      <td>None</td>\n",
       "      <td>None</td>\n",
       "      <td>None</td>\n",
       "      <td>None</td>\n",
       "      <td>None</td>\n",
       "    </tr>\n",
       "  </tbody>\n",
       "</table>\n",
       "<p>2356 rows × 17 columns</p>\n",
       "</div>"
      ],
      "text/plain": [
       "                tweet_id  in_reply_to_status_id  in_reply_to_user_id  \\\n",
       "0     892420643555336193                    NaN                  NaN   \n",
       "1     892177421306343426                    NaN                  NaN   \n",
       "2     891815181378084864                    NaN                  NaN   \n",
       "3     891689557279858688                    NaN                  NaN   \n",
       "4     891327558926688256                    NaN                  NaN   \n",
       "...                  ...                    ...                  ...   \n",
       "2351  666049248165822465                    NaN                  NaN   \n",
       "2352  666044226329800704                    NaN                  NaN   \n",
       "2353  666033412701032449                    NaN                  NaN   \n",
       "2354  666029285002620928                    NaN                  NaN   \n",
       "2355  666020888022790149                    NaN                  NaN   \n",
       "\n",
       "                      timestamp  \\\n",
       "0     2017-08-01 16:23:56 +0000   \n",
       "1     2017-08-01 00:17:27 +0000   \n",
       "2     2017-07-31 00:18:03 +0000   \n",
       "3     2017-07-30 15:58:51 +0000   \n",
       "4     2017-07-29 16:00:24 +0000   \n",
       "...                         ...   \n",
       "2351  2015-11-16 00:24:50 +0000   \n",
       "2352  2015-11-16 00:04:52 +0000   \n",
       "2353  2015-11-15 23:21:54 +0000   \n",
       "2354  2015-11-15 23:05:30 +0000   \n",
       "2355  2015-11-15 22:32:08 +0000   \n",
       "\n",
       "                                                 source  \\\n",
       "0     <a href=\"http://twitter.com/download/iphone\" r...   \n",
       "1     <a href=\"http://twitter.com/download/iphone\" r...   \n",
       "2     <a href=\"http://twitter.com/download/iphone\" r...   \n",
       "3     <a href=\"http://twitter.com/download/iphone\" r...   \n",
       "4     <a href=\"http://twitter.com/download/iphone\" r...   \n",
       "...                                                 ...   \n",
       "2351  <a href=\"http://twitter.com/download/iphone\" r...   \n",
       "2352  <a href=\"http://twitter.com/download/iphone\" r...   \n",
       "2353  <a href=\"http://twitter.com/download/iphone\" r...   \n",
       "2354  <a href=\"http://twitter.com/download/iphone\" r...   \n",
       "2355  <a href=\"http://twitter.com/download/iphone\" r...   \n",
       "\n",
       "                                                   text  retweeted_status_id  \\\n",
       "0     This is Phineas. He's a mystical boy. Only eve...                  NaN   \n",
       "1     This is Tilly. She's just checking pup on you....                  NaN   \n",
       "2     This is Archie. He is a rare Norwegian Pouncin...                  NaN   \n",
       "3     This is Darla. She commenced a snooze mid meal...                  NaN   \n",
       "4     This is Franklin. He would like you to stop ca...                  NaN   \n",
       "...                                                 ...                  ...   \n",
       "2351  Here we have a 1949 1st generation vulpix. Enj...                  NaN   \n",
       "2352  This is a purebred Piers Morgan. Loves to Netf...                  NaN   \n",
       "2353  Here is a very happy pup. Big fan of well-main...                  NaN   \n",
       "2354  This is a western brown Mitsubishi terrier. Up...                  NaN   \n",
       "2355  Here we have a Japanese Irish Setter. Lost eye...                  NaN   \n",
       "\n",
       "      retweeted_status_user_id retweeted_status_timestamp  \\\n",
       "0                          NaN                        NaN   \n",
       "1                          NaN                        NaN   \n",
       "2                          NaN                        NaN   \n",
       "3                          NaN                        NaN   \n",
       "4                          NaN                        NaN   \n",
       "...                        ...                        ...   \n",
       "2351                       NaN                        NaN   \n",
       "2352                       NaN                        NaN   \n",
       "2353                       NaN                        NaN   \n",
       "2354                       NaN                        NaN   \n",
       "2355                       NaN                        NaN   \n",
       "\n",
       "                                          expanded_urls  rating_numerator  \\\n",
       "0     https://twitter.com/dog_rates/status/892420643...                13   \n",
       "1     https://twitter.com/dog_rates/status/892177421...                13   \n",
       "2     https://twitter.com/dog_rates/status/891815181...                12   \n",
       "3     https://twitter.com/dog_rates/status/891689557...                13   \n",
       "4     https://twitter.com/dog_rates/status/891327558...                12   \n",
       "...                                                 ...               ...   \n",
       "2351  https://twitter.com/dog_rates/status/666049248...                 5   \n",
       "2352  https://twitter.com/dog_rates/status/666044226...                 6   \n",
       "2353  https://twitter.com/dog_rates/status/666033412...                 9   \n",
       "2354  https://twitter.com/dog_rates/status/666029285...                 7   \n",
       "2355  https://twitter.com/dog_rates/status/666020888...                 8   \n",
       "\n",
       "      rating_denominator      name doggo floofer pupper puppo  \n",
       "0                     10   Phineas  None    None   None  None  \n",
       "1                     10     Tilly  None    None   None  None  \n",
       "2                     10    Archie  None    None   None  None  \n",
       "3                     10     Darla  None    None   None  None  \n",
       "4                     10  Franklin  None    None   None  None  \n",
       "...                  ...       ...   ...     ...    ...   ...  \n",
       "2351                  10      None  None    None   None  None  \n",
       "2352                  10         a  None    None   None  None  \n",
       "2353                  10         a  None    None   None  None  \n",
       "2354                  10         a  None    None   None  None  \n",
       "2355                  10      None  None    None   None  None  \n",
       "\n",
       "[2356 rows x 17 columns]"
      ]
     },
     "execution_count": 10,
     "metadata": {},
     "output_type": "execute_result"
    }
   ],
   "source": [
    "archive_df"
   ]
  },
  {
   "cell_type": "code",
   "execution_count": 11,
   "metadata": {},
   "outputs": [
    {
     "data": {
      "text/html": [
       "<div>\n",
       "<style scoped>\n",
       "    .dataframe tbody tr th:only-of-type {\n",
       "        vertical-align: middle;\n",
       "    }\n",
       "\n",
       "    .dataframe tbody tr th {\n",
       "        vertical-align: top;\n",
       "    }\n",
       "\n",
       "    .dataframe thead th {\n",
       "        text-align: right;\n",
       "    }\n",
       "</style>\n",
       "<table border=\"1\" class=\"dataframe\">\n",
       "  <thead>\n",
       "    <tr style=\"text-align: right;\">\n",
       "      <th></th>\n",
       "      <th>tweet_id</th>\n",
       "      <th>in_reply_to_status_id</th>\n",
       "      <th>in_reply_to_user_id</th>\n",
       "      <th>timestamp</th>\n",
       "      <th>source</th>\n",
       "      <th>text</th>\n",
       "      <th>retweeted_status_id</th>\n",
       "      <th>retweeted_status_user_id</th>\n",
       "      <th>retweeted_status_timestamp</th>\n",
       "      <th>expanded_urls</th>\n",
       "      <th>rating_numerator</th>\n",
       "      <th>rating_denominator</th>\n",
       "      <th>name</th>\n",
       "      <th>doggo</th>\n",
       "      <th>floofer</th>\n",
       "      <th>pupper</th>\n",
       "      <th>puppo</th>\n",
       "    </tr>\n",
       "  </thead>\n",
       "  <tbody>\n",
       "    <tr>\n",
       "      <th>313</th>\n",
       "      <td>835246439529840640</td>\n",
       "      <td>8.352460e+17</td>\n",
       "      <td>2.625958e+07</td>\n",
       "      <td>2017-02-24 21:54:03 +0000</td>\n",
       "      <td>&lt;a href=\"http://twitter.com/download/iphone\" r...</td>\n",
       "      <td>@jonnysun @Lin_Manuel ok jomny I know you're e...</td>\n",
       "      <td>NaN</td>\n",
       "      <td>NaN</td>\n",
       "      <td>NaN</td>\n",
       "      <td>NaN</td>\n",
       "      <td>960</td>\n",
       "      <td>0</td>\n",
       "      <td>None</td>\n",
       "      <td>None</td>\n",
       "      <td>None</td>\n",
       "      <td>None</td>\n",
       "      <td>None</td>\n",
       "    </tr>\n",
       "    <tr>\n",
       "      <th>2335</th>\n",
       "      <td>666287406224695296</td>\n",
       "      <td>NaN</td>\n",
       "      <td>NaN</td>\n",
       "      <td>2015-11-16 16:11:11 +0000</td>\n",
       "      <td>&lt;a href=\"http://twitter.com/download/iphone\" r...</td>\n",
       "      <td>This is an Albanian 3 1/2 legged  Episcopalian...</td>\n",
       "      <td>NaN</td>\n",
       "      <td>NaN</td>\n",
       "      <td>NaN</td>\n",
       "      <td>https://twitter.com/dog_rates/status/666287406...</td>\n",
       "      <td>1</td>\n",
       "      <td>2</td>\n",
       "      <td>an</td>\n",
       "      <td>None</td>\n",
       "      <td>None</td>\n",
       "      <td>None</td>\n",
       "      <td>None</td>\n",
       "    </tr>\n",
       "    <tr>\n",
       "      <th>516</th>\n",
       "      <td>810984652412424192</td>\n",
       "      <td>NaN</td>\n",
       "      <td>NaN</td>\n",
       "      <td>2016-12-19 23:06:23 +0000</td>\n",
       "      <td>&lt;a href=\"http://twitter.com/download/iphone\" r...</td>\n",
       "      <td>Meet Sam. She smiles 24/7 &amp;amp; secretly aspir...</td>\n",
       "      <td>NaN</td>\n",
       "      <td>NaN</td>\n",
       "      <td>NaN</td>\n",
       "      <td>https://www.gofundme.com/sams-smile,https://tw...</td>\n",
       "      <td>24</td>\n",
       "      <td>7</td>\n",
       "      <td>Sam</td>\n",
       "      <td>None</td>\n",
       "      <td>None</td>\n",
       "      <td>None</td>\n",
       "      <td>None</td>\n",
       "    </tr>\n",
       "    <tr>\n",
       "      <th>387</th>\n",
       "      <td>826598799820865537</td>\n",
       "      <td>8.265984e+17</td>\n",
       "      <td>4.196984e+09</td>\n",
       "      <td>2017-02-01 01:11:25 +0000</td>\n",
       "      <td>&lt;a href=\"http://twitter.com/download/iphone\" r...</td>\n",
       "      <td>I was going to do 007/10, but the joke wasn't ...</td>\n",
       "      <td>NaN</td>\n",
       "      <td>NaN</td>\n",
       "      <td>NaN</td>\n",
       "      <td>NaN</td>\n",
       "      <td>7</td>\n",
       "      <td>10</td>\n",
       "      <td>None</td>\n",
       "      <td>None</td>\n",
       "      <td>None</td>\n",
       "      <td>None</td>\n",
       "      <td>None</td>\n",
       "    </tr>\n",
       "    <tr>\n",
       "      <th>45</th>\n",
       "      <td>883482846933004288</td>\n",
       "      <td>NaN</td>\n",
       "      <td>NaN</td>\n",
       "      <td>2017-07-08 00:28:19 +0000</td>\n",
       "      <td>&lt;a href=\"http://twitter.com/download/iphone\" r...</td>\n",
       "      <td>This is Bella. She hopes her smile made you sm...</td>\n",
       "      <td>NaN</td>\n",
       "      <td>NaN</td>\n",
       "      <td>NaN</td>\n",
       "      <td>https://twitter.com/dog_rates/status/883482846...</td>\n",
       "      <td>5</td>\n",
       "      <td>10</td>\n",
       "      <td>Bella</td>\n",
       "      <td>None</td>\n",
       "      <td>None</td>\n",
       "      <td>None</td>\n",
       "      <td>None</td>\n",
       "    </tr>\n",
       "    <tr>\n",
       "      <th>784</th>\n",
       "      <td>775096608509886464</td>\n",
       "      <td>NaN</td>\n",
       "      <td>NaN</td>\n",
       "      <td>2016-09-11 22:20:06 +0000</td>\n",
       "      <td>&lt;a href=\"http://twitter.com/download/iphone\" r...</td>\n",
       "      <td>RT @dog_rates: After so many requests, this is...</td>\n",
       "      <td>7.403732e+17</td>\n",
       "      <td>4.196984e+09</td>\n",
       "      <td>2016-06-08 02:41:38 +0000</td>\n",
       "      <td>https://twitter.com/dog_rates/status/740373189...</td>\n",
       "      <td>9</td>\n",
       "      <td>11</td>\n",
       "      <td>None</td>\n",
       "      <td>None</td>\n",
       "      <td>None</td>\n",
       "      <td>None</td>\n",
       "      <td>None</td>\n",
       "    </tr>\n",
       "    <tr>\n",
       "      <th>1068</th>\n",
       "      <td>740373189193256964</td>\n",
       "      <td>NaN</td>\n",
       "      <td>NaN</td>\n",
       "      <td>2016-06-08 02:41:38 +0000</td>\n",
       "      <td>&lt;a href=\"http://twitter.com/download/iphone\" r...</td>\n",
       "      <td>After so many requests, this is Bretagne. She ...</td>\n",
       "      <td>NaN</td>\n",
       "      <td>NaN</td>\n",
       "      <td>NaN</td>\n",
       "      <td>https://twitter.com/dog_rates/status/740373189...</td>\n",
       "      <td>9</td>\n",
       "      <td>11</td>\n",
       "      <td>None</td>\n",
       "      <td>None</td>\n",
       "      <td>None</td>\n",
       "      <td>None</td>\n",
       "      <td>None</td>\n",
       "    </tr>\n",
       "  </tbody>\n",
       "</table>\n",
       "</div>"
      ],
      "text/plain": [
       "                tweet_id  in_reply_to_status_id  in_reply_to_user_id  \\\n",
       "313   835246439529840640           8.352460e+17         2.625958e+07   \n",
       "2335  666287406224695296                    NaN                  NaN   \n",
       "516   810984652412424192                    NaN                  NaN   \n",
       "387   826598799820865537           8.265984e+17         4.196984e+09   \n",
       "45    883482846933004288                    NaN                  NaN   \n",
       "784   775096608509886464                    NaN                  NaN   \n",
       "1068  740373189193256964                    NaN                  NaN   \n",
       "\n",
       "                      timestamp  \\\n",
       "313   2017-02-24 21:54:03 +0000   \n",
       "2335  2015-11-16 16:11:11 +0000   \n",
       "516   2016-12-19 23:06:23 +0000   \n",
       "387   2017-02-01 01:11:25 +0000   \n",
       "45    2017-07-08 00:28:19 +0000   \n",
       "784   2016-09-11 22:20:06 +0000   \n",
       "1068  2016-06-08 02:41:38 +0000   \n",
       "\n",
       "                                                 source  \\\n",
       "313   <a href=\"http://twitter.com/download/iphone\" r...   \n",
       "2335  <a href=\"http://twitter.com/download/iphone\" r...   \n",
       "516   <a href=\"http://twitter.com/download/iphone\" r...   \n",
       "387   <a href=\"http://twitter.com/download/iphone\" r...   \n",
       "45    <a href=\"http://twitter.com/download/iphone\" r...   \n",
       "784   <a href=\"http://twitter.com/download/iphone\" r...   \n",
       "1068  <a href=\"http://twitter.com/download/iphone\" r...   \n",
       "\n",
       "                                                   text  retweeted_status_id  \\\n",
       "313   @jonnysun @Lin_Manuel ok jomny I know you're e...                  NaN   \n",
       "2335  This is an Albanian 3 1/2 legged  Episcopalian...                  NaN   \n",
       "516   Meet Sam. She smiles 24/7 &amp; secretly aspir...                  NaN   \n",
       "387   I was going to do 007/10, but the joke wasn't ...                  NaN   \n",
       "45    This is Bella. She hopes her smile made you sm...                  NaN   \n",
       "784   RT @dog_rates: After so many requests, this is...         7.403732e+17   \n",
       "1068  After so many requests, this is Bretagne. She ...                  NaN   \n",
       "\n",
       "      retweeted_status_user_id retweeted_status_timestamp  \\\n",
       "313                        NaN                        NaN   \n",
       "2335                       NaN                        NaN   \n",
       "516                        NaN                        NaN   \n",
       "387                        NaN                        NaN   \n",
       "45                         NaN                        NaN   \n",
       "784               4.196984e+09  2016-06-08 02:41:38 +0000   \n",
       "1068                       NaN                        NaN   \n",
       "\n",
       "                                          expanded_urls  rating_numerator  \\\n",
       "313                                                 NaN               960   \n",
       "2335  https://twitter.com/dog_rates/status/666287406...                 1   \n",
       "516   https://www.gofundme.com/sams-smile,https://tw...                24   \n",
       "387                                                 NaN                 7   \n",
       "45    https://twitter.com/dog_rates/status/883482846...                 5   \n",
       "784   https://twitter.com/dog_rates/status/740373189...                 9   \n",
       "1068  https://twitter.com/dog_rates/status/740373189...                 9   \n",
       "\n",
       "      rating_denominator   name doggo floofer pupper puppo  \n",
       "313                    0   None  None    None   None  None  \n",
       "2335                   2     an  None    None   None  None  \n",
       "516                    7    Sam  None    None   None  None  \n",
       "387                   10   None  None    None   None  None  \n",
       "45                    10  Bella  None    None   None  None  \n",
       "784                   11   None  None    None   None  None  \n",
       "1068                  11   None  None    None   None  None  "
      ]
     },
     "execution_count": 11,
     "metadata": {},
     "output_type": "execute_result"
    }
   ],
   "source": [
    "archive_df.loc[[313,2335,516,387,45,784,1068]]"
   ]
  },
  {
   "cell_type": "code",
   "execution_count": 12,
   "metadata": {},
   "outputs": [
    {
     "data": {
      "text/plain": [
       "10     2333\n",
       "11        3\n",
       "50        3\n",
       "80        2\n",
       "20        2\n",
       "2         1\n",
       "16        1\n",
       "40        1\n",
       "70        1\n",
       "15        1\n",
       "90        1\n",
       "110       1\n",
       "120       1\n",
       "130       1\n",
       "150       1\n",
       "170       1\n",
       "7         1\n",
       "0         1\n",
       "Name: rating_denominator, dtype: int64"
      ]
     },
     "execution_count": 12,
     "metadata": {},
     "output_type": "execute_result"
    }
   ],
   "source": [
    "archive_df.rating_denominator.value_counts()"
   ]
  },
  {
   "cell_type": "code",
   "execution_count": 13,
   "metadata": {},
   "outputs": [
    {
     "name": "stdout",
     "output_type": "stream",
     "text": [
      "<class 'pandas.core.frame.DataFrame'>\n",
      "RangeIndex: 2356 entries, 0 to 2355\n",
      "Data columns (total 17 columns):\n",
      " #   Column                      Non-Null Count  Dtype  \n",
      "---  ------                      --------------  -----  \n",
      " 0   tweet_id                    2356 non-null   int64  \n",
      " 1   in_reply_to_status_id       78 non-null     float64\n",
      " 2   in_reply_to_user_id         78 non-null     float64\n",
      " 3   timestamp                   2356 non-null   object \n",
      " 4   source                      2356 non-null   object \n",
      " 5   text                        2356 non-null   object \n",
      " 6   retweeted_status_id         181 non-null    float64\n",
      " 7   retweeted_status_user_id    181 non-null    float64\n",
      " 8   retweeted_status_timestamp  181 non-null    object \n",
      " 9   expanded_urls               2297 non-null   object \n",
      " 10  rating_numerator            2356 non-null   int64  \n",
      " 11  rating_denominator          2356 non-null   int64  \n",
      " 12  name                        2356 non-null   object \n",
      " 13  doggo                       2356 non-null   object \n",
      " 14  floofer                     2356 non-null   object \n",
      " 15  pupper                      2356 non-null   object \n",
      " 16  puppo                       2356 non-null   object \n",
      "dtypes: float64(4), int64(3), object(10)\n",
      "memory usage: 313.0+ KB\n"
     ]
    }
   ],
   "source": [
    "archive_df.info()"
   ]
  },
  {
   "cell_type": "code",
   "execution_count": 14,
   "metadata": {},
   "outputs": [
    {
     "data": {
      "text/html": [
       "<div>\n",
       "<style scoped>\n",
       "    .dataframe tbody tr th:only-of-type {\n",
       "        vertical-align: middle;\n",
       "    }\n",
       "\n",
       "    .dataframe tbody tr th {\n",
       "        vertical-align: top;\n",
       "    }\n",
       "\n",
       "    .dataframe thead th {\n",
       "        text-align: right;\n",
       "    }\n",
       "</style>\n",
       "<table border=\"1\" class=\"dataframe\">\n",
       "  <thead>\n",
       "    <tr style=\"text-align: right;\">\n",
       "      <th></th>\n",
       "      <th>tweet_id</th>\n",
       "      <th>favorite_count</th>\n",
       "      <th>retweet_count</th>\n",
       "      <th>created_at</th>\n",
       "      <th>user_count</th>\n",
       "      <th>quote_status</th>\n",
       "    </tr>\n",
       "  </thead>\n",
       "  <tbody>\n",
       "    <tr>\n",
       "      <th>2163</th>\n",
       "      <td>669367896104181761</td>\n",
       "      <td>485</td>\n",
       "      <td>172</td>\n",
       "      <td>Wed Nov 25 04:11:57 +0000 2015</td>\n",
       "      <td>3201012</td>\n",
       "      <td>False</td>\n",
       "    </tr>\n",
       "    <tr>\n",
       "      <th>532</th>\n",
       "      <td>807621403335917568</td>\n",
       "      <td>16236</td>\n",
       "      <td>4288</td>\n",
       "      <td>Sat Dec 10 16:22:02 +0000 2016</td>\n",
       "      <td>3200896</td>\n",
       "      <td>False</td>\n",
       "    </tr>\n",
       "    <tr>\n",
       "      <th>2054</th>\n",
       "      <td>671357843010908160</td>\n",
       "      <td>426</td>\n",
       "      <td>157</td>\n",
       "      <td>Mon Nov 30 15:59:17 +0000 2015</td>\n",
       "      <td>3201007</td>\n",
       "      <td>False</td>\n",
       "    </tr>\n",
       "    <tr>\n",
       "      <th>806</th>\n",
       "      <td>771908950375665664</td>\n",
       "      <td>7298</td>\n",
       "      <td>2181</td>\n",
       "      <td>Sat Sep 03 03:13:29 +0000 2016</td>\n",
       "      <td>3200905</td>\n",
       "      <td>True</td>\n",
       "    </tr>\n",
       "    <tr>\n",
       "      <th>2041</th>\n",
       "      <td>671536543010570240</td>\n",
       "      <td>1253</td>\n",
       "      <td>441</td>\n",
       "      <td>Tue Dec 01 03:49:23 +0000 2015</td>\n",
       "      <td>3201007</td>\n",
       "      <td>False</td>\n",
       "    </tr>\n",
       "    <tr>\n",
       "      <th>1572</th>\n",
       "      <td>687480748861947905</td>\n",
       "      <td>1760</td>\n",
       "      <td>281</td>\n",
       "      <td>Thu Jan 14 03:45:57 +0000 2016</td>\n",
       "      <td>3200951</td>\n",
       "      <td>False</td>\n",
       "    </tr>\n",
       "    <tr>\n",
       "      <th>2132</th>\n",
       "      <td>670069087419133954</td>\n",
       "      <td>676</td>\n",
       "      <td>278</td>\n",
       "      <td>Fri Nov 27 02:38:14 +0000 2015</td>\n",
       "      <td>3201010</td>\n",
       "      <td>False</td>\n",
       "    </tr>\n",
       "    <tr>\n",
       "      <th>1504</th>\n",
       "      <td>691756958957883396</td>\n",
       "      <td>3179</td>\n",
       "      <td>1161</td>\n",
       "      <td>Mon Jan 25 22:58:05 +0000 2016</td>\n",
       "      <td>3200950</td>\n",
       "      <td>False</td>\n",
       "    </tr>\n",
       "    <tr>\n",
       "      <th>2230</th>\n",
       "      <td>668221241640230912</td>\n",
       "      <td>537</td>\n",
       "      <td>215</td>\n",
       "      <td>Sun Nov 22 00:15:33 +0000 2015</td>\n",
       "      <td>3201015</td>\n",
       "      <td>False</td>\n",
       "    </tr>\n",
       "    <tr>\n",
       "      <th>513</th>\n",
       "      <td>811627233043480576</td>\n",
       "      <td>14265</td>\n",
       "      <td>3650</td>\n",
       "      <td>Wed Dec 21 17:39:46 +0000 2016</td>\n",
       "      <td>3200895</td>\n",
       "      <td>False</td>\n",
       "    </tr>\n",
       "    <tr>\n",
       "      <th>2176</th>\n",
       "      <td>669015743032369152</td>\n",
       "      <td>785</td>\n",
       "      <td>403</td>\n",
       "      <td>Tue Nov 24 04:52:37 +0000 2015</td>\n",
       "      <td>3201012</td>\n",
       "      <td>False</td>\n",
       "    </tr>\n",
       "    <tr>\n",
       "      <th>921</th>\n",
       "      <td>755955933503782912</td>\n",
       "      <td>8092</td>\n",
       "      <td>3285</td>\n",
       "      <td>Thu Jul 21 02:41:54 +0000 2016</td>\n",
       "      <td>3200943</td>\n",
       "      <td>False</td>\n",
       "    </tr>\n",
       "    <tr>\n",
       "      <th>1733</th>\n",
       "      <td>679729593985699840</td>\n",
       "      <td>2367</td>\n",
       "      <td>937</td>\n",
       "      <td>Wed Dec 23 18:25:38 +0000 2015</td>\n",
       "      <td>3200953</td>\n",
       "      <td>False</td>\n",
       "    </tr>\n",
       "    <tr>\n",
       "      <th>900</th>\n",
       "      <td>758467244762497024</td>\n",
       "      <td>5316</td>\n",
       "      <td>2539</td>\n",
       "      <td>Thu Jul 28 01:00:57 +0000 2016</td>\n",
       "      <td>3200942</td>\n",
       "      <td>False</td>\n",
       "    </tr>\n",
       "    <tr>\n",
       "      <th>1919</th>\n",
       "      <td>674262580978937856</td>\n",
       "      <td>1391</td>\n",
       "      <td>498</td>\n",
       "      <td>Tue Dec 08 16:21:41 +0000 2015</td>\n",
       "      <td>3201003</td>\n",
       "      <td>False</td>\n",
       "    </tr>\n",
       "    <tr>\n",
       "      <th>2244</th>\n",
       "      <td>667878741721415682</td>\n",
       "      <td>409</td>\n",
       "      <td>127</td>\n",
       "      <td>Sat Nov 21 01:34:35 +0000 2015</td>\n",
       "      <td>3201015</td>\n",
       "      <td>False</td>\n",
       "    </tr>\n",
       "    <tr>\n",
       "      <th>1536</th>\n",
       "      <td>689835978131935233</td>\n",
       "      <td>2369</td>\n",
       "      <td>850</td>\n",
       "      <td>Wed Jan 20 15:44:48 +0000 2016</td>\n",
       "      <td>3200950</td>\n",
       "      <td>False</td>\n",
       "    </tr>\n",
       "    <tr>\n",
       "      <th>2269</th>\n",
       "      <td>667495797102141441</td>\n",
       "      <td>565</td>\n",
       "      <td>294</td>\n",
       "      <td>Fri Nov 20 00:12:54 +0000 2015</td>\n",
       "      <td>3201016</td>\n",
       "      <td>False</td>\n",
       "    </tr>\n",
       "    <tr>\n",
       "      <th>1058</th>\n",
       "      <td>741438259667034112</td>\n",
       "      <td>4026</td>\n",
       "      <td>937</td>\n",
       "      <td>Sat Jun 11 01:13:51 +0000 2016</td>\n",
       "      <td>3200943</td>\n",
       "      <td>False</td>\n",
       "    </tr>\n",
       "    <tr>\n",
       "      <th>137</th>\n",
       "      <td>865718153858494464</td>\n",
       "      <td>26640</td>\n",
       "      <td>6008</td>\n",
       "      <td>Fri May 19 23:57:46 +0000 2017</td>\n",
       "      <td>3200891</td>\n",
       "      <td>False</td>\n",
       "    </tr>\n",
       "  </tbody>\n",
       "</table>\n",
       "</div>"
      ],
      "text/plain": [
       "                tweet_id  favorite_count  retweet_count  \\\n",
       "2163  669367896104181761             485            172   \n",
       "532   807621403335917568           16236           4288   \n",
       "2054  671357843010908160             426            157   \n",
       "806   771908950375665664            7298           2181   \n",
       "2041  671536543010570240            1253            441   \n",
       "1572  687480748861947905            1760            281   \n",
       "2132  670069087419133954             676            278   \n",
       "1504  691756958957883396            3179           1161   \n",
       "2230  668221241640230912             537            215   \n",
       "513   811627233043480576           14265           3650   \n",
       "2176  669015743032369152             785            403   \n",
       "921   755955933503782912            8092           3285   \n",
       "1733  679729593985699840            2367            937   \n",
       "900   758467244762497024            5316           2539   \n",
       "1919  674262580978937856            1391            498   \n",
       "2244  667878741721415682             409            127   \n",
       "1536  689835978131935233            2369            850   \n",
       "2269  667495797102141441             565            294   \n",
       "1058  741438259667034112            4026            937   \n",
       "137   865718153858494464           26640           6008   \n",
       "\n",
       "                          created_at  user_count  quote_status  \n",
       "2163  Wed Nov 25 04:11:57 +0000 2015     3201012         False  \n",
       "532   Sat Dec 10 16:22:02 +0000 2016     3200896         False  \n",
       "2054  Mon Nov 30 15:59:17 +0000 2015     3201007         False  \n",
       "806   Sat Sep 03 03:13:29 +0000 2016     3200905          True  \n",
       "2041  Tue Dec 01 03:49:23 +0000 2015     3201007         False  \n",
       "1572  Thu Jan 14 03:45:57 +0000 2016     3200951         False  \n",
       "2132  Fri Nov 27 02:38:14 +0000 2015     3201010         False  \n",
       "1504  Mon Jan 25 22:58:05 +0000 2016     3200950         False  \n",
       "2230  Sun Nov 22 00:15:33 +0000 2015     3201015         False  \n",
       "513   Wed Dec 21 17:39:46 +0000 2016     3200895         False  \n",
       "2176  Tue Nov 24 04:52:37 +0000 2015     3201012         False  \n",
       "921   Thu Jul 21 02:41:54 +0000 2016     3200943         False  \n",
       "1733  Wed Dec 23 18:25:38 +0000 2015     3200953         False  \n",
       "900   Thu Jul 28 01:00:57 +0000 2016     3200942         False  \n",
       "1919  Tue Dec 08 16:21:41 +0000 2015     3201003         False  \n",
       "2244  Sat Nov 21 01:34:35 +0000 2015     3201015         False  \n",
       "1536  Wed Jan 20 15:44:48 +0000 2016     3200950         False  \n",
       "2269  Fri Nov 20 00:12:54 +0000 2015     3201016         False  \n",
       "1058  Sat Jun 11 01:13:51 +0000 2016     3200943         False  \n",
       "137   Fri May 19 23:57:46 +0000 2017     3200891         False  "
      ]
     },
     "execution_count": 14,
     "metadata": {},
     "output_type": "execute_result"
    }
   ],
   "source": [
    "df_api_info.sample(20)"
   ]
  },
  {
   "cell_type": "code",
   "execution_count": 15,
   "metadata": {},
   "outputs": [
    {
     "data": {
      "text/html": [
       "<div>\n",
       "<style scoped>\n",
       "    .dataframe tbody tr th:only-of-type {\n",
       "        vertical-align: middle;\n",
       "    }\n",
       "\n",
       "    .dataframe tbody tr th {\n",
       "        vertical-align: top;\n",
       "    }\n",
       "\n",
       "    .dataframe thead th {\n",
       "        text-align: right;\n",
       "    }\n",
       "</style>\n",
       "<table border=\"1\" class=\"dataframe\">\n",
       "  <thead>\n",
       "    <tr style=\"text-align: right;\">\n",
       "      <th></th>\n",
       "      <th>favorite_count</th>\n",
       "      <th>retweet_count</th>\n",
       "      <th>user_count</th>\n",
       "    </tr>\n",
       "  </thead>\n",
       "  <tbody>\n",
       "    <tr>\n",
       "      <th>count</th>\n",
       "      <td>2354.000000</td>\n",
       "      <td>2354.000000</td>\n",
       "      <td>2.354000e+03</td>\n",
       "    </tr>\n",
       "    <tr>\n",
       "      <th>mean</th>\n",
       "      <td>8080.968564</td>\n",
       "      <td>3164.797366</td>\n",
       "      <td>3.200942e+06</td>\n",
       "    </tr>\n",
       "    <tr>\n",
       "      <th>std</th>\n",
       "      <td>11814.771334</td>\n",
       "      <td>5284.770364</td>\n",
       "      <td>4.457302e+01</td>\n",
       "    </tr>\n",
       "    <tr>\n",
       "      <th>min</th>\n",
       "      <td>0.000000</td>\n",
       "      <td>0.000000</td>\n",
       "      <td>3.200799e+06</td>\n",
       "    </tr>\n",
       "    <tr>\n",
       "      <th>25%</th>\n",
       "      <td>1415.000000</td>\n",
       "      <td>624.500000</td>\n",
       "      <td>3.200898e+06</td>\n",
       "    </tr>\n",
       "    <tr>\n",
       "      <th>50%</th>\n",
       "      <td>3603.500000</td>\n",
       "      <td>1473.500000</td>\n",
       "      <td>3.200945e+06</td>\n",
       "    </tr>\n",
       "    <tr>\n",
       "      <th>75%</th>\n",
       "      <td>10122.250000</td>\n",
       "      <td>3652.000000</td>\n",
       "      <td>3.200953e+06</td>\n",
       "    </tr>\n",
       "    <tr>\n",
       "      <th>max</th>\n",
       "      <td>132810.000000</td>\n",
       "      <td>79515.000000</td>\n",
       "      <td>3.201018e+06</td>\n",
       "    </tr>\n",
       "  </tbody>\n",
       "</table>\n",
       "</div>"
      ],
      "text/plain": [
       "       favorite_count  retweet_count    user_count\n",
       "count     2354.000000    2354.000000  2.354000e+03\n",
       "mean      8080.968564    3164.797366  3.200942e+06\n",
       "std      11814.771334    5284.770364  4.457302e+01\n",
       "min          0.000000       0.000000  3.200799e+06\n",
       "25%       1415.000000     624.500000  3.200898e+06\n",
       "50%       3603.500000    1473.500000  3.200945e+06\n",
       "75%      10122.250000    3652.000000  3.200953e+06\n",
       "max     132810.000000   79515.000000  3.201018e+06"
      ]
     },
     "execution_count": 15,
     "metadata": {},
     "output_type": "execute_result"
    }
   ],
   "source": [
    "df_api_info.describe()"
   ]
  },
  {
   "cell_type": "code",
   "execution_count": 16,
   "metadata": {},
   "outputs": [
    {
     "data": {
      "text/html": [
       "<div>\n",
       "<style scoped>\n",
       "    .dataframe tbody tr th:only-of-type {\n",
       "        vertical-align: middle;\n",
       "    }\n",
       "\n",
       "    .dataframe tbody tr th {\n",
       "        vertical-align: top;\n",
       "    }\n",
       "\n",
       "    .dataframe thead th {\n",
       "        text-align: right;\n",
       "    }\n",
       "</style>\n",
       "<table border=\"1\" class=\"dataframe\">\n",
       "  <thead>\n",
       "    <tr style=\"text-align: right;\">\n",
       "      <th></th>\n",
       "      <th>tweet_id</th>\n",
       "      <th>jpg_url</th>\n",
       "      <th>img_num</th>\n",
       "      <th>p1</th>\n",
       "      <th>p1_conf</th>\n",
       "      <th>p1_dog</th>\n",
       "      <th>p2</th>\n",
       "      <th>p2_conf</th>\n",
       "      <th>p2_dog</th>\n",
       "      <th>p3</th>\n",
       "      <th>p3_conf</th>\n",
       "      <th>p3_dog</th>\n",
       "    </tr>\n",
       "  </thead>\n",
       "  <tbody>\n",
       "    <tr>\n",
       "      <th>0</th>\n",
       "      <td>666020888022790149</td>\n",
       "      <td>https://pbs.twimg.com/media/CT4udn0WwAA0aMy.jpg</td>\n",
       "      <td>1</td>\n",
       "      <td>Welsh_springer_spaniel</td>\n",
       "      <td>0.465074</td>\n",
       "      <td>True</td>\n",
       "      <td>collie</td>\n",
       "      <td>0.156665</td>\n",
       "      <td>True</td>\n",
       "      <td>Shetland_sheepdog</td>\n",
       "      <td>0.061428</td>\n",
       "      <td>True</td>\n",
       "    </tr>\n",
       "    <tr>\n",
       "      <th>1</th>\n",
       "      <td>666029285002620928</td>\n",
       "      <td>https://pbs.twimg.com/media/CT42GRgUYAA5iDo.jpg</td>\n",
       "      <td>1</td>\n",
       "      <td>redbone</td>\n",
       "      <td>0.506826</td>\n",
       "      <td>True</td>\n",
       "      <td>miniature_pinscher</td>\n",
       "      <td>0.074192</td>\n",
       "      <td>True</td>\n",
       "      <td>Rhodesian_ridgeback</td>\n",
       "      <td>0.072010</td>\n",
       "      <td>True</td>\n",
       "    </tr>\n",
       "    <tr>\n",
       "      <th>2</th>\n",
       "      <td>666033412701032449</td>\n",
       "      <td>https://pbs.twimg.com/media/CT4521TWwAEvMyu.jpg</td>\n",
       "      <td>1</td>\n",
       "      <td>German_shepherd</td>\n",
       "      <td>0.596461</td>\n",
       "      <td>True</td>\n",
       "      <td>malinois</td>\n",
       "      <td>0.138584</td>\n",
       "      <td>True</td>\n",
       "      <td>bloodhound</td>\n",
       "      <td>0.116197</td>\n",
       "      <td>True</td>\n",
       "    </tr>\n",
       "    <tr>\n",
       "      <th>3</th>\n",
       "      <td>666044226329800704</td>\n",
       "      <td>https://pbs.twimg.com/media/CT5Dr8HUEAA-lEu.jpg</td>\n",
       "      <td>1</td>\n",
       "      <td>Rhodesian_ridgeback</td>\n",
       "      <td>0.408143</td>\n",
       "      <td>True</td>\n",
       "      <td>redbone</td>\n",
       "      <td>0.360687</td>\n",
       "      <td>True</td>\n",
       "      <td>miniature_pinscher</td>\n",
       "      <td>0.222752</td>\n",
       "      <td>True</td>\n",
       "    </tr>\n",
       "    <tr>\n",
       "      <th>4</th>\n",
       "      <td>666049248165822465</td>\n",
       "      <td>https://pbs.twimg.com/media/CT5IQmsXIAAKY4A.jpg</td>\n",
       "      <td>1</td>\n",
       "      <td>miniature_pinscher</td>\n",
       "      <td>0.560311</td>\n",
       "      <td>True</td>\n",
       "      <td>Rottweiler</td>\n",
       "      <td>0.243682</td>\n",
       "      <td>True</td>\n",
       "      <td>Doberman</td>\n",
       "      <td>0.154629</td>\n",
       "      <td>True</td>\n",
       "    </tr>\n",
       "  </tbody>\n",
       "</table>\n",
       "</div>"
      ],
      "text/plain": [
       "             tweet_id                                          jpg_url  \\\n",
       "0  666020888022790149  https://pbs.twimg.com/media/CT4udn0WwAA0aMy.jpg   \n",
       "1  666029285002620928  https://pbs.twimg.com/media/CT42GRgUYAA5iDo.jpg   \n",
       "2  666033412701032449  https://pbs.twimg.com/media/CT4521TWwAEvMyu.jpg   \n",
       "3  666044226329800704  https://pbs.twimg.com/media/CT5Dr8HUEAA-lEu.jpg   \n",
       "4  666049248165822465  https://pbs.twimg.com/media/CT5IQmsXIAAKY4A.jpg   \n",
       "\n",
       "   img_num                      p1   p1_conf  p1_dog                  p2  \\\n",
       "0        1  Welsh_springer_spaniel  0.465074    True              collie   \n",
       "1        1                 redbone  0.506826    True  miniature_pinscher   \n",
       "2        1         German_shepherd  0.596461    True            malinois   \n",
       "3        1     Rhodesian_ridgeback  0.408143    True             redbone   \n",
       "4        1      miniature_pinscher  0.560311    True          Rottweiler   \n",
       "\n",
       "    p2_conf  p2_dog                   p3   p3_conf  p3_dog  \n",
       "0  0.156665    True    Shetland_sheepdog  0.061428    True  \n",
       "1  0.074192    True  Rhodesian_ridgeback  0.072010    True  \n",
       "2  0.138584    True           bloodhound  0.116197    True  \n",
       "3  0.360687    True   miniature_pinscher  0.222752    True  \n",
       "4  0.243682    True             Doberman  0.154629    True  "
      ]
     },
     "execution_count": 16,
     "metadata": {},
     "output_type": "execute_result"
    }
   ],
   "source": [
    "df_image_predictions.head()"
   ]
  },
  {
   "cell_type": "code",
   "execution_count": 17,
   "metadata": {},
   "outputs": [
    {
     "data": {
      "text/plain": [
       "1    1780\n",
       "2     198\n",
       "3      66\n",
       "4      31\n",
       "Name: img_num, dtype: int64"
      ]
     },
     "execution_count": 17,
     "metadata": {},
     "output_type": "execute_result"
    }
   ],
   "source": [
    "df_image_predictions.img_num.value_counts()"
   ]
  },
  {
   "cell_type": "code",
   "execution_count": 18,
   "metadata": {},
   "outputs": [
    {
     "data": {
      "text/plain": [
       "False"
      ]
     },
     "execution_count": 18,
     "metadata": {},
     "output_type": "execute_result"
    }
   ],
   "source": [
    "df_image_predictions.p1_dog.equals(df_image_predictions.p2_dog)"
   ]
  },
  {
   "cell_type": "code",
   "execution_count": 19,
   "metadata": {},
   "outputs": [
    {
     "data": {
      "text/plain": [
       "(0, 0, 0)"
      ]
     },
     "execution_count": 19,
     "metadata": {},
     "output_type": "execute_result"
    }
   ],
   "source": [
    "sum(archive_df.duplicated()) , sum(df_image_predictions.duplicated()), sum(df_api_info.duplicated())"
   ]
  },
  {
   "cell_type": "markdown",
   "metadata": {},
   "source": [
    "## Data Quality issues: 'required min 8'"
   ]
  },
  {
   "cell_type": "markdown",
   "metadata": {},
   "source": [
    "- **archive_df:**\n",
    "    - remove retweets with retweet status id\n",
    "    - remove reply tweets with reply status id\n",
    "    - remove unwanted 6 columns: `in_reply_to_status_id`, `in_reply_to_user_id`, `source`, `retweeted_status_id`, `retweeted_status_user_id`, `retweeted_status_timestamp`.\n",
    "    - missing dog names.\n",
    "    - index 45:'883482846933004288', 784:'775096608509886464', 1068:'740373189193256964',716439118184652801,722974582966214656 misread & index 387:'826598799820865537','682962037429899265' joke misinterpreted\n",
    "    - invalid rating at index 313:'835246439529840640',2335:'666287406224695296',516:'810984652412424192')\n",
    "    - index 200, 460, 950, 575 doggo, floofer, pupper, puppo type wronge.\n",
    "    - missing data in expanded url can be collected from tweet-json.txt index\n",
    "    - Data type error: tweet_id, retweeted_status_id, timestamp should be datetime \n",
    "    - 20 tweets with different rating denominator (not 10).\n",
    "\n",
    "    \n",
    "- **remove tweets with no images.**\n",
    "- **some tweets have more one https in their url column**\n",
    "- **df_image_predictions:**\n",
    "    - 3 columns for the same variable \n",
    "    - rename non descriptive column names\n",
    "    - some of dog breed names in column is lowercase\n",
    "- **df_api_info:**\n",
    "    - remove quote tweets\n"
   ]
  },
  {
   "cell_type": "markdown",
   "metadata": {},
   "source": [
    "## Data tidiness issues: 'required min 2'\n"
   ]
  },
  {
   "cell_type": "markdown",
   "metadata": {},
   "source": [
    "- **doggo, floofer, pupper, puppo columns in twitter_archive_enhanced.csv should be combined into a single column as this is one variable that identify the stage of dog.**\n",
    "- **Information about one type of observational unit (tweets) is spread across three different files/dataframes. So these three dataframes should be merged as they are part of the same observational unit.**\n",
    "\n",
    "     "
   ]
  },
  {
   "cell_type": "markdown",
   "metadata": {},
   "source": [
    "tweets with dog photo and low rating that contain alcohol, wine, beer ,"
   ]
  },
  {
   "cell_type": "markdown",
   "metadata": {},
   "source": [
    "# clean"
   ]
  },
  {
   "cell_type": "code",
   "execution_count": 20,
   "metadata": {},
   "outputs": [],
   "source": [
    "# make a copy of each DataFrame\n",
    "archive_clean = archive_df.copy()\n",
    "image_prediction_clean = df_image_predictions.copy()\n",
    "api_info_clean = df_api_info.copy()"
   ]
  },
  {
   "cell_type": "markdown",
   "metadata": {},
   "source": [
    "## archive_df:"
   ]
  },
  {
   "cell_type": "markdown",
   "metadata": {},
   "source": [
    "- remove retweets with retweet status id\n",
    "    - **define:** filter out rows with value in retweeted_status_id\n",
    "- remove reply tweets with reply status id\n",
    "    - **define:** filter out rows with value in in_reply_to_status_id."
   ]
  },
  {
   "cell_type": "code",
   "execution_count": 21,
   "metadata": {},
   "outputs": [],
   "source": [
    "# filter out rows with value in retweeted_status_id\n",
    "archive_clean.drop(archive_clean[archive_clean['retweeted_status_id'].notnull()].index, inplace = True)\n",
    "# filter out rows with value in in_reply_to_status_id\n",
    "archive_clean.drop(archive_clean[archive_clean['in_reply_to_status_id'].notnull()].index, inplace = True)"
   ]
  },
  {
   "cell_type": "markdown",
   "metadata": {},
   "source": [
    "**Test**"
   ]
  },
  {
   "cell_type": "code",
   "execution_count": 22,
   "metadata": {},
   "outputs": [
    {
     "name": "stdout",
     "output_type": "stream",
     "text": [
      "<class 'pandas.core.frame.DataFrame'>\n",
      "Int64Index: 2097 entries, 0 to 2355\n",
      "Data columns (total 17 columns):\n",
      " #   Column                      Non-Null Count  Dtype  \n",
      "---  ------                      --------------  -----  \n",
      " 0   tweet_id                    2097 non-null   int64  \n",
      " 1   in_reply_to_status_id       0 non-null      float64\n",
      " 2   in_reply_to_user_id         0 non-null      float64\n",
      " 3   timestamp                   2097 non-null   object \n",
      " 4   source                      2097 non-null   object \n",
      " 5   text                        2097 non-null   object \n",
      " 6   retweeted_status_id         0 non-null      float64\n",
      " 7   retweeted_status_user_id    0 non-null      float64\n",
      " 8   retweeted_status_timestamp  0 non-null      object \n",
      " 9   expanded_urls               2094 non-null   object \n",
      " 10  rating_numerator            2097 non-null   int64  \n",
      " 11  rating_denominator          2097 non-null   int64  \n",
      " 12  name                        2097 non-null   object \n",
      " 13  doggo                       2097 non-null   object \n",
      " 14  floofer                     2097 non-null   object \n",
      " 15  pupper                      2097 non-null   object \n",
      " 16  puppo                       2097 non-null   object \n",
      "dtypes: float64(4), int64(3), object(10)\n",
      "memory usage: 294.9+ KB\n"
     ]
    }
   ],
   "source": [
    "archive_clean.info()"
   ]
  },
  {
   "cell_type": "markdown",
   "metadata": {},
   "source": [
    "- remove unwanted columns:\n",
    "    - **define:** \n",
    "        - create list of un wanted columns: in_reply_to_status_id, in_reply_to_user_id, source, retweeted_status_id, retweeted_status_user_id, retweeted_status_timestamp.\n",
    "        - remove using df.drop()\n",
    "        - test by listing columns"
   ]
  },
  {
   "cell_type": "code",
   "execution_count": 23,
   "metadata": {},
   "outputs": [
    {
     "data": {
      "text/plain": [
       "Index(['tweet_id', 'timestamp', 'text', 'expanded_urls', 'rating_numerator',\n",
       "       'rating_denominator', 'name', 'doggo', 'floofer', 'pupper', 'puppo'],\n",
       "      dtype='object')"
      ]
     },
     "execution_count": 23,
     "metadata": {},
     "output_type": "execute_result"
    }
   ],
   "source": [
    "#create list:\n",
    "unwanted_columns = ['in_reply_to_status_id', 'in_reply_to_user_id', 'source', 'retweeted_status_id',\n",
    "                    'retweeted_status_user_id', 'retweeted_status_timestamp']\n",
    "# drop columns:\n",
    "archive_clean.drop(unwanted_columns, axis=1 , inplace=True)\n",
    "#test:\n",
    "archive_clean.columns"
   ]
  },
  {
   "cell_type": "markdown",
   "metadata": {},
   "source": [
    "- index 45:'883482846933004288', 784:'775096608509886464', 1068:'740373189193256964',716439118184652801 , 722974582966214656 misread & index 387:'826598799820865537' 682962037429899265, joke misinterpreted\n",
    "- invalid rating at index 313:'835246439529840640',2335:'666287406224695296',516:'810984652412424192')\n",
    "    - **define:** create list with wrong_rating_id\n",
    "        - view rows to be modified to check if any were deleted\n",
    "        - create dictionary of key = tweet id , value = correct rating\n",
    "        - replace wrong rating with the wright ones\n",
    "        "
   ]
  },
  {
   "cell_type": "code",
   "execution_count": 24,
   "metadata": {},
   "outputs": [
    {
     "data": {
      "text/html": [
       "<div>\n",
       "<style scoped>\n",
       "    .dataframe tbody tr th:only-of-type {\n",
       "        vertical-align: middle;\n",
       "    }\n",
       "\n",
       "    .dataframe tbody tr th {\n",
       "        vertical-align: top;\n",
       "    }\n",
       "\n",
       "    .dataframe thead th {\n",
       "        text-align: right;\n",
       "    }\n",
       "</style>\n",
       "<table border=\"1\" class=\"dataframe\">\n",
       "  <thead>\n",
       "    <tr style=\"text-align: right;\">\n",
       "      <th></th>\n",
       "      <th>tweet_id</th>\n",
       "      <th>timestamp</th>\n",
       "      <th>text</th>\n",
       "      <th>expanded_urls</th>\n",
       "      <th>rating_numerator</th>\n",
       "      <th>rating_denominator</th>\n",
       "      <th>name</th>\n",
       "      <th>doggo</th>\n",
       "      <th>floofer</th>\n",
       "      <th>pupper</th>\n",
       "      <th>puppo</th>\n",
       "    </tr>\n",
       "  </thead>\n",
       "  <tbody>\n",
       "    <tr>\n",
       "      <th>45</th>\n",
       "      <td>883482846933004288</td>\n",
       "      <td>2017-07-08 00:28:19 +0000</td>\n",
       "      <td>This is Bella. She hopes her smile made you sm...</td>\n",
       "      <td>https://twitter.com/dog_rates/status/883482846...</td>\n",
       "      <td>5</td>\n",
       "      <td>10</td>\n",
       "      <td>Bella</td>\n",
       "      <td>None</td>\n",
       "      <td>None</td>\n",
       "      <td>None</td>\n",
       "      <td>None</td>\n",
       "    </tr>\n",
       "    <tr>\n",
       "      <th>516</th>\n",
       "      <td>810984652412424192</td>\n",
       "      <td>2016-12-19 23:06:23 +0000</td>\n",
       "      <td>Meet Sam. She smiles 24/7 &amp;amp; secretly aspir...</td>\n",
       "      <td>https://www.gofundme.com/sams-smile,https://tw...</td>\n",
       "      <td>24</td>\n",
       "      <td>7</td>\n",
       "      <td>Sam</td>\n",
       "      <td>None</td>\n",
       "      <td>None</td>\n",
       "      <td>None</td>\n",
       "      <td>None</td>\n",
       "    </tr>\n",
       "    <tr>\n",
       "      <th>1068</th>\n",
       "      <td>740373189193256964</td>\n",
       "      <td>2016-06-08 02:41:38 +0000</td>\n",
       "      <td>After so many requests, this is Bretagne. She ...</td>\n",
       "      <td>https://twitter.com/dog_rates/status/740373189...</td>\n",
       "      <td>9</td>\n",
       "      <td>11</td>\n",
       "      <td>None</td>\n",
       "      <td>None</td>\n",
       "      <td>None</td>\n",
       "      <td>None</td>\n",
       "      <td>None</td>\n",
       "    </tr>\n",
       "    <tr>\n",
       "      <th>1165</th>\n",
       "      <td>722974582966214656</td>\n",
       "      <td>2016-04-21 02:25:47 +0000</td>\n",
       "      <td>Happy 4/20 from the squad! 13/10 for all https...</td>\n",
       "      <td>https://twitter.com/dog_rates/status/722974582...</td>\n",
       "      <td>4</td>\n",
       "      <td>20</td>\n",
       "      <td>None</td>\n",
       "      <td>None</td>\n",
       "      <td>None</td>\n",
       "      <td>None</td>\n",
       "      <td>None</td>\n",
       "    </tr>\n",
       "    <tr>\n",
       "      <th>1202</th>\n",
       "      <td>716439118184652801</td>\n",
       "      <td>2016-04-03 01:36:11 +0000</td>\n",
       "      <td>This is Bluebert. He just saw that both #Final...</td>\n",
       "      <td>https://twitter.com/dog_rates/status/716439118...</td>\n",
       "      <td>50</td>\n",
       "      <td>50</td>\n",
       "      <td>Bluebert</td>\n",
       "      <td>None</td>\n",
       "      <td>None</td>\n",
       "      <td>None</td>\n",
       "      <td>None</td>\n",
       "    </tr>\n",
       "    <tr>\n",
       "      <th>1662</th>\n",
       "      <td>682962037429899265</td>\n",
       "      <td>2016-01-01 16:30:13 +0000</td>\n",
       "      <td>This is Darrel. He just robbed a 7/11 and is i...</td>\n",
       "      <td>https://twitter.com/dog_rates/status/682962037...</td>\n",
       "      <td>7</td>\n",
       "      <td>11</td>\n",
       "      <td>Darrel</td>\n",
       "      <td>None</td>\n",
       "      <td>None</td>\n",
       "      <td>None</td>\n",
       "      <td>None</td>\n",
       "    </tr>\n",
       "    <tr>\n",
       "      <th>2335</th>\n",
       "      <td>666287406224695296</td>\n",
       "      <td>2015-11-16 16:11:11 +0000</td>\n",
       "      <td>This is an Albanian 3 1/2 legged  Episcopalian...</td>\n",
       "      <td>https://twitter.com/dog_rates/status/666287406...</td>\n",
       "      <td>1</td>\n",
       "      <td>2</td>\n",
       "      <td>an</td>\n",
       "      <td>None</td>\n",
       "      <td>None</td>\n",
       "      <td>None</td>\n",
       "      <td>None</td>\n",
       "    </tr>\n",
       "  </tbody>\n",
       "</table>\n",
       "</div>"
      ],
      "text/plain": [
       "                tweet_id                  timestamp  \\\n",
       "45    883482846933004288  2017-07-08 00:28:19 +0000   \n",
       "516   810984652412424192  2016-12-19 23:06:23 +0000   \n",
       "1068  740373189193256964  2016-06-08 02:41:38 +0000   \n",
       "1165  722974582966214656  2016-04-21 02:25:47 +0000   \n",
       "1202  716439118184652801  2016-04-03 01:36:11 +0000   \n",
       "1662  682962037429899265  2016-01-01 16:30:13 +0000   \n",
       "2335  666287406224695296  2015-11-16 16:11:11 +0000   \n",
       "\n",
       "                                                   text  \\\n",
       "45    This is Bella. She hopes her smile made you sm...   \n",
       "516   Meet Sam. She smiles 24/7 &amp; secretly aspir...   \n",
       "1068  After so many requests, this is Bretagne. She ...   \n",
       "1165  Happy 4/20 from the squad! 13/10 for all https...   \n",
       "1202  This is Bluebert. He just saw that both #Final...   \n",
       "1662  This is Darrel. He just robbed a 7/11 and is i...   \n",
       "2335  This is an Albanian 3 1/2 legged  Episcopalian...   \n",
       "\n",
       "                                          expanded_urls  rating_numerator  \\\n",
       "45    https://twitter.com/dog_rates/status/883482846...                 5   \n",
       "516   https://www.gofundme.com/sams-smile,https://tw...                24   \n",
       "1068  https://twitter.com/dog_rates/status/740373189...                 9   \n",
       "1165  https://twitter.com/dog_rates/status/722974582...                 4   \n",
       "1202  https://twitter.com/dog_rates/status/716439118...                50   \n",
       "1662  https://twitter.com/dog_rates/status/682962037...                 7   \n",
       "2335  https://twitter.com/dog_rates/status/666287406...                 1   \n",
       "\n",
       "      rating_denominator      name doggo floofer pupper puppo  \n",
       "45                    10     Bella  None    None   None  None  \n",
       "516                    7       Sam  None    None   None  None  \n",
       "1068                  11      None  None    None   None  None  \n",
       "1165                  20      None  None    None   None  None  \n",
       "1202                  50  Bluebert  None    None   None  None  \n",
       "1662                  11    Darrel  None    None   None  None  \n",
       "2335                   2        an  None    None   None  None  "
      ]
     },
     "execution_count": 24,
     "metadata": {},
     "output_type": "execute_result"
    }
   ],
   "source": [
    "# creat list with tweet_id of tweets with wrong rating\n",
    "wrong_rating_id = [883482846933004288, 775096608509886464, 740373189193256964, 826598799820865537,\n",
    "                   682962037429899265,716439118184652801, 722974582966214656 ]\n",
    "invalid_rating_id = [835246439529840640, 666287406224695296, 810984652412424192]\n",
    "_id = wrong_rating_id+invalid_rating_id\n",
    "archive_clean.loc[archive_clean['tweet_id'].isin(_id) ]"
   ]
  },
  {
   "cell_type": "markdown",
   "metadata": {},
   "source": [
    "3 of wrong entries were deleted with retweets and replies"
   ]
  },
  {
   "cell_type": "code",
   "execution_count": 25,
   "metadata": {},
   "outputs": [],
   "source": [
    "rating_correction = {45:(13.5,10) , 516:(0,0) , 1068:(14,10) , 2335:(9,10) , 1662:(10,10) ,\n",
    "                     1202:(11,10) , 1165:(13,10)}\n",
    "for key, value in rating_correction.items():\n",
    "    archive_clean.rating_numerator.loc[key] = value[0]\n",
    "    archive_clean.rating_denominator.loc[key] = value[1]"
   ]
  },
  {
   "cell_type": "markdown",
   "metadata": {},
   "source": [
    "- drop row index 516: tweet have no rating"
   ]
  },
  {
   "cell_type": "code",
   "execution_count": 26,
   "metadata": {},
   "outputs": [],
   "source": [
    "archive_clean.drop(516, inplace = True)\n"
   ]
  },
  {
   "cell_type": "code",
   "execution_count": 27,
   "metadata": {},
   "outputs": [
    {
     "data": {
      "text/html": [
       "<div>\n",
       "<style scoped>\n",
       "    .dataframe tbody tr th:only-of-type {\n",
       "        vertical-align: middle;\n",
       "    }\n",
       "\n",
       "    .dataframe tbody tr th {\n",
       "        vertical-align: top;\n",
       "    }\n",
       "\n",
       "    .dataframe thead th {\n",
       "        text-align: right;\n",
       "    }\n",
       "</style>\n",
       "<table border=\"1\" class=\"dataframe\">\n",
       "  <thead>\n",
       "    <tr style=\"text-align: right;\">\n",
       "      <th></th>\n",
       "      <th>tweet_id</th>\n",
       "      <th>timestamp</th>\n",
       "      <th>text</th>\n",
       "      <th>expanded_urls</th>\n",
       "      <th>rating_numerator</th>\n",
       "      <th>rating_denominator</th>\n",
       "      <th>name</th>\n",
       "      <th>doggo</th>\n",
       "      <th>floofer</th>\n",
       "      <th>pupper</th>\n",
       "      <th>puppo</th>\n",
       "    </tr>\n",
       "  </thead>\n",
       "  <tbody>\n",
       "    <tr>\n",
       "      <th>45</th>\n",
       "      <td>883482846933004288</td>\n",
       "      <td>2017-07-08 00:28:19 +0000</td>\n",
       "      <td>This is Bella. She hopes her smile made you sm...</td>\n",
       "      <td>https://twitter.com/dog_rates/status/883482846...</td>\n",
       "      <td>13.5</td>\n",
       "      <td>10</td>\n",
       "      <td>Bella</td>\n",
       "      <td>None</td>\n",
       "      <td>None</td>\n",
       "      <td>None</td>\n",
       "      <td>None</td>\n",
       "    </tr>\n",
       "    <tr>\n",
       "      <th>1068</th>\n",
       "      <td>740373189193256964</td>\n",
       "      <td>2016-06-08 02:41:38 +0000</td>\n",
       "      <td>After so many requests, this is Bretagne. She ...</td>\n",
       "      <td>https://twitter.com/dog_rates/status/740373189...</td>\n",
       "      <td>14.0</td>\n",
       "      <td>10</td>\n",
       "      <td>None</td>\n",
       "      <td>None</td>\n",
       "      <td>None</td>\n",
       "      <td>None</td>\n",
       "      <td>None</td>\n",
       "    </tr>\n",
       "    <tr>\n",
       "      <th>1165</th>\n",
       "      <td>722974582966214656</td>\n",
       "      <td>2016-04-21 02:25:47 +0000</td>\n",
       "      <td>Happy 4/20 from the squad! 13/10 for all https...</td>\n",
       "      <td>https://twitter.com/dog_rates/status/722974582...</td>\n",
       "      <td>13.0</td>\n",
       "      <td>10</td>\n",
       "      <td>None</td>\n",
       "      <td>None</td>\n",
       "      <td>None</td>\n",
       "      <td>None</td>\n",
       "      <td>None</td>\n",
       "    </tr>\n",
       "    <tr>\n",
       "      <th>1202</th>\n",
       "      <td>716439118184652801</td>\n",
       "      <td>2016-04-03 01:36:11 +0000</td>\n",
       "      <td>This is Bluebert. He just saw that both #Final...</td>\n",
       "      <td>https://twitter.com/dog_rates/status/716439118...</td>\n",
       "      <td>11.0</td>\n",
       "      <td>10</td>\n",
       "      <td>Bluebert</td>\n",
       "      <td>None</td>\n",
       "      <td>None</td>\n",
       "      <td>None</td>\n",
       "      <td>None</td>\n",
       "    </tr>\n",
       "    <tr>\n",
       "      <th>1662</th>\n",
       "      <td>682962037429899265</td>\n",
       "      <td>2016-01-01 16:30:13 +0000</td>\n",
       "      <td>This is Darrel. He just robbed a 7/11 and is i...</td>\n",
       "      <td>https://twitter.com/dog_rates/status/682962037...</td>\n",
       "      <td>10.0</td>\n",
       "      <td>10</td>\n",
       "      <td>Darrel</td>\n",
       "      <td>None</td>\n",
       "      <td>None</td>\n",
       "      <td>None</td>\n",
       "      <td>None</td>\n",
       "    </tr>\n",
       "    <tr>\n",
       "      <th>2335</th>\n",
       "      <td>666287406224695296</td>\n",
       "      <td>2015-11-16 16:11:11 +0000</td>\n",
       "      <td>This is an Albanian 3 1/2 legged  Episcopalian...</td>\n",
       "      <td>https://twitter.com/dog_rates/status/666287406...</td>\n",
       "      <td>9.0</td>\n",
       "      <td>10</td>\n",
       "      <td>an</td>\n",
       "      <td>None</td>\n",
       "      <td>None</td>\n",
       "      <td>None</td>\n",
       "      <td>None</td>\n",
       "    </tr>\n",
       "  </tbody>\n",
       "</table>\n",
       "</div>"
      ],
      "text/plain": [
       "                tweet_id                  timestamp  \\\n",
       "45    883482846933004288  2017-07-08 00:28:19 +0000   \n",
       "1068  740373189193256964  2016-06-08 02:41:38 +0000   \n",
       "1165  722974582966214656  2016-04-21 02:25:47 +0000   \n",
       "1202  716439118184652801  2016-04-03 01:36:11 +0000   \n",
       "1662  682962037429899265  2016-01-01 16:30:13 +0000   \n",
       "2335  666287406224695296  2015-11-16 16:11:11 +0000   \n",
       "\n",
       "                                                   text  \\\n",
       "45    This is Bella. She hopes her smile made you sm...   \n",
       "1068  After so many requests, this is Bretagne. She ...   \n",
       "1165  Happy 4/20 from the squad! 13/10 for all https...   \n",
       "1202  This is Bluebert. He just saw that both #Final...   \n",
       "1662  This is Darrel. He just robbed a 7/11 and is i...   \n",
       "2335  This is an Albanian 3 1/2 legged  Episcopalian...   \n",
       "\n",
       "                                          expanded_urls  rating_numerator  \\\n",
       "45    https://twitter.com/dog_rates/status/883482846...              13.5   \n",
       "1068  https://twitter.com/dog_rates/status/740373189...              14.0   \n",
       "1165  https://twitter.com/dog_rates/status/722974582...              13.0   \n",
       "1202  https://twitter.com/dog_rates/status/716439118...              11.0   \n",
       "1662  https://twitter.com/dog_rates/status/682962037...              10.0   \n",
       "2335  https://twitter.com/dog_rates/status/666287406...               9.0   \n",
       "\n",
       "      rating_denominator      name doggo floofer pupper puppo  \n",
       "45                    10     Bella  None    None   None  None  \n",
       "1068                  10      None  None    None   None  None  \n",
       "1165                  10      None  None    None   None  None  \n",
       "1202                  10  Bluebert  None    None   None  None  \n",
       "1662                  10    Darrel  None    None   None  None  \n",
       "2335                  10        an  None    None   None  None  "
      ]
     },
     "execution_count": 27,
     "metadata": {},
     "output_type": "execute_result"
    }
   ],
   "source": [
    "#test\n",
    "archive_clean.loc[archive_clean['tweet_id'].isin(_id) ]"
   ]
  },
  {
   "cell_type": "markdown",
   "metadata": {},
   "source": [
    "- wrong datatype in columnstweet_id , timestamp \n",
    "    - **define:** change datatype using str() and pd.to_datetime()"
   ]
  },
  {
   "cell_type": "code",
   "execution_count": 28,
   "metadata": {},
   "outputs": [
    {
     "name": "stdout",
     "output_type": "stream",
     "text": [
      "<class 'pandas.core.frame.DataFrame'>\n",
      "Int64Index: 2096 entries, 0 to 2355\n",
      "Data columns (total 11 columns):\n",
      " #   Column              Non-Null Count  Dtype              \n",
      "---  ------              --------------  -----              \n",
      " 0   tweet_id            2096 non-null   object             \n",
      " 1   timestamp           2096 non-null   datetime64[ns, UTC]\n",
      " 2   text                2096 non-null   object             \n",
      " 3   expanded_urls       2093 non-null   object             \n",
      " 4   rating_numerator    2096 non-null   float64            \n",
      " 5   rating_denominator  2096 non-null   int64              \n",
      " 6   name                2096 non-null   object             \n",
      " 7   doggo               2096 non-null   object             \n",
      " 8   floofer             2096 non-null   object             \n",
      " 9   pupper              2096 non-null   object             \n",
      " 10  puppo               2096 non-null   object             \n",
      "dtypes: datetime64[ns, UTC](1), float64(1), int64(1), object(8)\n",
      "memory usage: 196.5+ KB\n"
     ]
    }
   ],
   "source": [
    "#change tweet_id to string:\n",
    "archive_clean.tweet_id = archive_clean.tweet_id.astype(str)\n",
    "#change timestamp type:\n",
    "archive_clean.timestamp = pd.to_datetime(archive_clean.timestamp)\n",
    "#test\n",
    "archive_clean.info()"
   ]
  },
  {
   "cell_type": "markdown",
   "metadata": {},
   "source": [
    "## join dataframes\n",
    "- same observational unit in two tables: archive_clean, image_prediction_clean\n",
    "- **define:** merge two dataframes with pd.merge()"
   ]
  },
  {
   "cell_type": "code",
   "execution_count": 29,
   "metadata": {},
   "outputs": [],
   "source": [
    "tweet_data_complete = pd.merge(archive_clean, api_info_clean, on=['tweet_id'] , how='left')"
   ]
  },
  {
   "cell_type": "code",
   "execution_count": 30,
   "metadata": {
    "scrolled": true
   },
   "outputs": [
    {
     "name": "stdout",
     "output_type": "stream",
     "text": [
      "<class 'pandas.core.frame.DataFrame'>\n",
      "Int64Index: 2096 entries, 0 to 2095\n",
      "Data columns (total 16 columns):\n",
      " #   Column              Non-Null Count  Dtype              \n",
      "---  ------              --------------  -----              \n",
      " 0   tweet_id            2096 non-null   object             \n",
      " 1   timestamp           2096 non-null   datetime64[ns, UTC]\n",
      " 2   text                2096 non-null   object             \n",
      " 3   expanded_urls       2093 non-null   object             \n",
      " 4   rating_numerator    2096 non-null   float64            \n",
      " 5   rating_denominator  2096 non-null   int64              \n",
      " 6   name                2096 non-null   object             \n",
      " 7   doggo               2096 non-null   object             \n",
      " 8   floofer             2096 non-null   object             \n",
      " 9   pupper              2096 non-null   object             \n",
      " 10  puppo               2096 non-null   object             \n",
      " 11  favorite_count      2096 non-null   int64              \n",
      " 12  retweet_count       2096 non-null   int64              \n",
      " 13  created_at          2096 non-null   object             \n",
      " 14  user_count          2096 non-null   int64              \n",
      " 15  quote_status        2096 non-null   bool               \n",
      "dtypes: bool(1), datetime64[ns, UTC](1), float64(1), int64(4), object(9)\n",
      "memory usage: 264.0+ KB\n"
     ]
    }
   ],
   "source": [
    "tweet_data_complete.info()"
   ]
  },
  {
   "cell_type": "code",
   "execution_count": 31,
   "metadata": {},
   "outputs": [],
   "source": [
    "tweet_data_complete['jpg_url']= image_prediction_clean['jpg_url']"
   ]
  },
  {
   "cell_type": "markdown",
   "metadata": {},
   "source": [
    "- remove tweets with no images.\n",
    "- **define:** remove tweets with jpg_url is null"
   ]
  },
  {
   "cell_type": "code",
   "execution_count": 32,
   "metadata": {},
   "outputs": [
    {
     "name": "stdout",
     "output_type": "stream",
     "text": [
      "<class 'pandas.core.frame.DataFrame'>\n",
      "Int64Index: 2075 entries, 0 to 2074\n",
      "Data columns (total 17 columns):\n",
      " #   Column              Non-Null Count  Dtype              \n",
      "---  ------              --------------  -----              \n",
      " 0   tweet_id            2075 non-null   object             \n",
      " 1   timestamp           2075 non-null   datetime64[ns, UTC]\n",
      " 2   text                2075 non-null   object             \n",
      " 3   expanded_urls       2072 non-null   object             \n",
      " 4   rating_numerator    2075 non-null   float64            \n",
      " 5   rating_denominator  2075 non-null   int64              \n",
      " 6   name                2075 non-null   object             \n",
      " 7   doggo               2075 non-null   object             \n",
      " 8   floofer             2075 non-null   object             \n",
      " 9   pupper              2075 non-null   object             \n",
      " 10  puppo               2075 non-null   object             \n",
      " 11  favorite_count      2075 non-null   int64              \n",
      " 12  retweet_count       2075 non-null   int64              \n",
      " 13  created_at          2075 non-null   object             \n",
      " 14  user_count          2075 non-null   int64              \n",
      " 15  quote_status        2075 non-null   bool               \n",
      " 16  jpg_url             2075 non-null   object             \n",
      "dtypes: bool(1), datetime64[ns, UTC](1), float64(1), int64(4), object(10)\n",
      "memory usage: 277.6+ KB\n"
     ]
    }
   ],
   "source": [
    "#code: use df.drop()\n",
    "tweet_data_complete.drop(tweet_data_complete[tweet_data_complete['jpg_url'].isnull()].index, inplace = True)\n",
    "#test:\n",
    "tweet_data_complete.info()"
   ]
  },
  {
   "cell_type": "markdown",
   "metadata": {},
   "source": [
    "- doggo, floofer, pupper, puppo: 4 columns , one variable\n",
    "- **define**\n",
    "    - remove none entries in each columns\n",
    "    - create new column 'dog_stage' with data from all 4 columns\n",
    "    - delete old stage columns "
   ]
  },
  {
   "cell_type": "code",
   "execution_count": 33,
   "metadata": {},
   "outputs": [],
   "source": [
    "# remove 'None' entries in each columns\n",
    "tweet_data_complete['doggo'].replace('None', '', inplace=True)\n",
    "tweet_data_complete['floofer'].replace('None', '', inplace=True)\n",
    "tweet_data_complete['pupper'].replace('None', '', inplace=True)\n",
    "tweet_data_complete['puppo'].replace('None', '', inplace=True)\n",
    "#create new column\n",
    "tweet_data_complete['dog_stage'] = (tweet_data_complete['doggo'] + \n",
    "                                    tweet_data_complete['floofer'] + \n",
    "                                    tweet_data_complete['pupper'] + \n",
    "                                    tweet_data_complete['puppo'])\n",
    "#fill missing data:\n",
    "tweet_data_complete['dog_stage'].replace('', 'unknown', inplace=True)\n",
    "#drop columns\n",
    "drop_col = ['doggo','floofer','pupper','puppo']\n",
    "tweet_data_complete.drop(drop_col, axis=1 , inplace=True)\n"
   ]
  },
  {
   "cell_type": "code",
   "execution_count": 34,
   "metadata": {},
   "outputs": [
    {
     "data": {
      "text/plain": [
       "unknown         1739\n",
       "pupper           221\n",
       "doggo             72\n",
       "puppo             23\n",
       "floofer            9\n",
       "doggopupper        9\n",
       "doggopuppo         1\n",
       "doggofloofer       1\n",
       "Name: dog_stage, dtype: int64"
      ]
     },
     "execution_count": 34,
     "metadata": {},
     "output_type": "execute_result"
    }
   ],
   "source": [
    "tweet_data_complete['dog_stage'].value_counts()"
   ]
  },
  {
   "cell_type": "markdown",
   "metadata": {},
   "source": [
    "- Quote tweets are not original tweets\n",
    "    - **define:** \n",
    "        - remove tweets with quote_status == True\n",
    "        - drop quote_status column"
   ]
  },
  {
   "cell_type": "code",
   "execution_count": 35,
   "metadata": {},
   "outputs": [
    {
     "data": {
      "text/plain": [
       "False    2046\n",
       "True       29\n",
       "Name: quote_status, dtype: int64"
      ]
     },
     "execution_count": 35,
     "metadata": {},
     "output_type": "execute_result"
    }
   ],
   "source": [
    "tweet_data_complete.quote_status.value_counts()"
   ]
  },
  {
   "cell_type": "code",
   "execution_count": 36,
   "metadata": {},
   "outputs": [
    {
     "name": "stdout",
     "output_type": "stream",
     "text": [
      "<class 'pandas.core.frame.DataFrame'>\n",
      "Int64Index: 2046 entries, 0 to 2074\n",
      "Data columns (total 13 columns):\n",
      " #   Column              Non-Null Count  Dtype              \n",
      "---  ------              --------------  -----              \n",
      " 0   tweet_id            2046 non-null   object             \n",
      " 1   timestamp           2046 non-null   datetime64[ns, UTC]\n",
      " 2   text                2046 non-null   object             \n",
      " 3   expanded_urls       2043 non-null   object             \n",
      " 4   rating_numerator    2046 non-null   float64            \n",
      " 5   rating_denominator  2046 non-null   int64              \n",
      " 6   name                2046 non-null   object             \n",
      " 7   favorite_count      2046 non-null   int64              \n",
      " 8   retweet_count       2046 non-null   int64              \n",
      " 9   created_at          2046 non-null   object             \n",
      " 10  user_count          2046 non-null   int64              \n",
      " 11  jpg_url             2046 non-null   object             \n",
      " 12  dog_stage           2046 non-null   object             \n",
      "dtypes: datetime64[ns, UTC](1), float64(1), int64(4), object(7)\n",
      "memory usage: 223.8+ KB\n"
     ]
    }
   ],
   "source": [
    "#drop tweets with quote_status==True\n",
    "tweet_data_complete.drop(tweet_data_complete[tweet_data_complete['quote_status']== True].index, inplace = True)\n",
    "#drop quote_status column\n",
    "tweet_data_complete.drop('quote_status', axis=1 , inplace=True)\n",
    "#test\n",
    "tweet_data_complete.info()"
   ]
  },
  {
   "cell_type": "markdown",
   "metadata": {},
   "source": [
    "- timestamp and created_at columns represent same data\n",
    "    - **define:**\n",
    "        - remove timestamp column\n",
    "        - change created_at to datetime"
   ]
  },
  {
   "cell_type": "code",
   "execution_count": 37,
   "metadata": {},
   "outputs": [],
   "source": [
    "#remove timestamp column\n",
    "tweet_data_complete.drop('timestamp', axis=1 , inplace=True)\n",
    "#change created_at dtype\n",
    "tweet_data_complete.created_at = pd.to_datetime(tweet_data_complete.created_at )"
   ]
  },
  {
   "cell_type": "code",
   "execution_count": 38,
   "metadata": {},
   "outputs": [
    {
     "name": "stdout",
     "output_type": "stream",
     "text": [
      "<class 'pandas.core.frame.DataFrame'>\n",
      "Int64Index: 2046 entries, 0 to 2074\n",
      "Data columns (total 12 columns):\n",
      " #   Column              Non-Null Count  Dtype              \n",
      "---  ------              --------------  -----              \n",
      " 0   tweet_id            2046 non-null   object             \n",
      " 1   text                2046 non-null   object             \n",
      " 2   expanded_urls       2043 non-null   object             \n",
      " 3   rating_numerator    2046 non-null   float64            \n",
      " 4   rating_denominator  2046 non-null   int64              \n",
      " 5   name                2046 non-null   object             \n",
      " 6   favorite_count      2046 non-null   int64              \n",
      " 7   retweet_count       2046 non-null   int64              \n",
      " 8   created_at          2046 non-null   datetime64[ns, UTC]\n",
      " 9   user_count          2046 non-null   int64              \n",
      " 10  jpg_url             2046 non-null   object             \n",
      " 11  dog_stage           2046 non-null   object             \n",
      "dtypes: datetime64[ns, UTC](1), float64(1), int64(4), object(6)\n",
      "memory usage: 207.8+ KB\n"
     ]
    }
   ],
   "source": [
    "#test\n",
    "tweet_data_complete.info()"
   ]
  },
  {
   "cell_type": "markdown",
   "metadata": {},
   "source": [
    "- **image_prediction_clean**\n",
    "    - rename non descriptive column names\n",
    "    - some of dog breed names in column is lowercase\n",
    "- there are 3 predictions of every image \n",
    "- we are going to use the p1 prediction with the highest prediction confidence\n",
    "- join p1 and p1_dog to tweet_data_complete \n",
    "- **define:**\n",
    "    - copy columns p1 and p1_dog to tweet_data_complete\n",
    "    - rename columns p1,  p1_dog\n",
    "    - fix lower case with .tilte() p1 "
   ]
  },
  {
   "cell_type": "code",
   "execution_count": 39,
   "metadata": {},
   "outputs": [],
   "source": [
    "#copy columns from image_prediction_clean with changing to descriptive name\n",
    "tweet_data_complete['is_dog_image'] = image_prediction_clean['p1_dog']\n",
    "tweet_data_complete['dog_breed_prediction'] = image_prediction_clean['p1'].str.title()"
   ]
  },
  {
   "cell_type": "code",
   "execution_count": 40,
   "metadata": {},
   "outputs": [
    {
     "name": "stdout",
     "output_type": "stream",
     "text": [
      "<class 'pandas.core.frame.DataFrame'>\n",
      "Int64Index: 2046 entries, 0 to 2074\n",
      "Data columns (total 14 columns):\n",
      " #   Column                Non-Null Count  Dtype              \n",
      "---  ------                --------------  -----              \n",
      " 0   tweet_id              2046 non-null   object             \n",
      " 1   text                  2046 non-null   object             \n",
      " 2   expanded_urls         2043 non-null   object             \n",
      " 3   rating_numerator      2046 non-null   float64            \n",
      " 4   rating_denominator    2046 non-null   int64              \n",
      " 5   name                  2046 non-null   object             \n",
      " 6   favorite_count        2046 non-null   int64              \n",
      " 7   retweet_count         2046 non-null   int64              \n",
      " 8   created_at            2046 non-null   datetime64[ns, UTC]\n",
      " 9   user_count            2046 non-null   int64              \n",
      " 10  jpg_url               2046 non-null   object             \n",
      " 11  dog_stage             2046 non-null   object             \n",
      " 12  is_dog_image          2046 non-null   bool               \n",
      " 13  dog_breed_prediction  2046 non-null   object             \n",
      "dtypes: bool(1), datetime64[ns, UTC](1), float64(1), int64(4), object(7)\n",
      "memory usage: 225.8+ KB\n"
     ]
    }
   ],
   "source": [
    "#test\n",
    "tweet_data_complete.info()"
   ]
  },
  {
   "cell_type": "code",
   "execution_count": 41,
   "metadata": {},
   "outputs": [
    {
     "data": {
      "text/plain": [
       "1690               Border_Collie\n",
       "1681              French_Bulldog\n",
       "1999          Labrador_Retriever\n",
       "1171                         Cup\n",
       "372                       Wombat\n",
       "472           Labrador_Retriever\n",
       "1550          Labrador_Retriever\n",
       "1920                   Chihuahua\n",
       "978                      Samoyed\n",
       "2057            Golden_Retriever\n",
       "822               Cocker_Spaniel\n",
       "1203    Chesapeake_Bay_Retriever\n",
       "51                          Swab\n",
       "532     Chesapeake_Bay_Retriever\n",
       "497                       Beagle\n",
       "Name: dog_breed_prediction, dtype: object"
      ]
     },
     "execution_count": 41,
     "metadata": {},
     "output_type": "execute_result"
    }
   ],
   "source": [
    "tweet_data_complete.dog_breed_prediction.sample(15)"
   ]
  },
  {
   "cell_type": "code",
   "execution_count": 42,
   "metadata": {},
   "outputs": [
    {
     "data": {
      "text/plain": [
       "Golden_Retriever      149\n",
       "Labrador_Retriever     99\n",
       "Pembroke               88\n",
       "Chihuahua              81\n",
       "Pug                    56\n",
       "                     ... \n",
       "Soccer_Ball             1\n",
       "Cheeseburger            1\n",
       "Studio_Couch            1\n",
       "Lorikeet                1\n",
       "Agama                   1\n",
       "Name: dog_breed_prediction, Length: 375, dtype: int64"
      ]
     },
     "execution_count": 42,
     "metadata": {},
     "output_type": "execute_result"
    }
   ],
   "source": [
    "tweet_data_complete.dog_breed_prediction.value_counts()"
   ]
  },
  {
   "cell_type": "markdown",
   "metadata": {},
   "source": [
    "# save clean data"
   ]
  },
  {
   "cell_type": "code",
   "execution_count": 43,
   "metadata": {},
   "outputs": [],
   "source": [
    "tweet_data_complete.to_csv('twitter_archive_master.csv', index=False)"
   ]
  },
  {
   "cell_type": "markdown",
   "metadata": {},
   "source": [
    "# Data Analysis\n",
    "Analyze and visualize your wrangled data in your wrangle_act.ipynb Jupyter Notebook. At least three (3) insights and one (1) visualization must be produced."
   ]
  },
  {
   "cell_type": "code",
   "execution_count": 44,
   "metadata": {},
   "outputs": [
    {
     "name": "stdout",
     "output_type": "stream",
     "text": [
      "<class 'pandas.core.frame.DataFrame'>\n",
      "RangeIndex: 2046 entries, 0 to 2045\n",
      "Data columns (total 14 columns):\n",
      " #   Column                Non-Null Count  Dtype              \n",
      "---  ------                --------------  -----              \n",
      " 0   tweet_id              2046 non-null   int64              \n",
      " 1   text                  2046 non-null   object             \n",
      " 2   expanded_urls         2043 non-null   object             \n",
      " 3   rating_numerator      2046 non-null   float64            \n",
      " 4   rating_denominator    2046 non-null   int64              \n",
      " 5   name                  2046 non-null   object             \n",
      " 6   favorite_count        2046 non-null   int64              \n",
      " 7   retweet_count         2046 non-null   int64              \n",
      " 8   created_at            2046 non-null   datetime64[ns, UTC]\n",
      " 9   user_count            2046 non-null   int64              \n",
      " 10  jpg_url               2046 non-null   object             \n",
      " 11  dog_stage             2046 non-null   category           \n",
      " 12  is_dog_image          2046 non-null   bool               \n",
      " 13  dog_breed_prediction  2046 non-null   object             \n",
      "dtypes: bool(1), category(1), datetime64[ns, UTC](1), float64(1), int64(5), object(5)\n",
      "memory usage: 196.3+ KB\n"
     ]
    }
   ],
   "source": [
    "# load DataFrame and fix category and Datetime format\n",
    "archive_master = pd.read_csv('twitter_archive_master.csv')\n",
    "archive_master.created_at = pd.to_datetime(archive_master.created_at )\n",
    "archive_master.dog_stage = archive_master.dog_stage.astype('category')\n",
    "archive_master.info()"
   ]
  },
  {
   "cell_type": "code",
   "execution_count": 45,
   "metadata": {},
   "outputs": [
    {
     "data": {
      "text/html": [
       "<div>\n",
       "<style scoped>\n",
       "    .dataframe tbody tr th:only-of-type {\n",
       "        vertical-align: middle;\n",
       "    }\n",
       "\n",
       "    .dataframe tbody tr th {\n",
       "        vertical-align: top;\n",
       "    }\n",
       "\n",
       "    .dataframe thead th {\n",
       "        text-align: right;\n",
       "    }\n",
       "</style>\n",
       "<table border=\"1\" class=\"dataframe\">\n",
       "  <thead>\n",
       "    <tr style=\"text-align: right;\">\n",
       "      <th></th>\n",
       "      <th>tweet_id</th>\n",
       "      <th>rating_numerator</th>\n",
       "      <th>rating_denominator</th>\n",
       "      <th>favorite_count</th>\n",
       "      <th>retweet_count</th>\n",
       "      <th>user_count</th>\n",
       "    </tr>\n",
       "  </thead>\n",
       "  <tbody>\n",
       "    <tr>\n",
       "      <th>count</th>\n",
       "      <td>2.046000e+03</td>\n",
       "      <td>2046.000000</td>\n",
       "      <td>2046.000000</td>\n",
       "      <td>2046.000000</td>\n",
       "      <td>2046.000000</td>\n",
       "      <td>2.046000e+03</td>\n",
       "    </tr>\n",
       "    <tr>\n",
       "      <th>mean</th>\n",
       "      <td>7.360988e+17</td>\n",
       "      <td>12.217253</td>\n",
       "      <td>10.439883</td>\n",
       "      <td>8971.636852</td>\n",
       "      <td>2850.594819</td>\n",
       "      <td>3.200945e+06</td>\n",
       "    </tr>\n",
       "    <tr>\n",
       "      <th>std</th>\n",
       "      <td>6.652765e+16</td>\n",
       "      <td>40.850989</td>\n",
       "      <td>6.663557</td>\n",
       "      <td>12169.922201</td>\n",
       "      <td>4732.239673</td>\n",
       "      <td>4.373784e+01</td>\n",
       "    </tr>\n",
       "    <tr>\n",
       "      <th>min</th>\n",
       "      <td>6.662939e+17</td>\n",
       "      <td>0.000000</td>\n",
       "      <td>10.000000</td>\n",
       "      <td>107.000000</td>\n",
       "      <td>23.000000</td>\n",
       "      <td>3.200799e+06</td>\n",
       "    </tr>\n",
       "    <tr>\n",
       "      <th>25%</th>\n",
       "      <td>6.769486e+17</td>\n",
       "      <td>10.000000</td>\n",
       "      <td>10.000000</td>\n",
       "      <td>2091.250000</td>\n",
       "      <td>656.000000</td>\n",
       "      <td>3.200901e+06</td>\n",
       "    </tr>\n",
       "    <tr>\n",
       "      <th>50%</th>\n",
       "      <td>7.094844e+17</td>\n",
       "      <td>11.000000</td>\n",
       "      <td>10.000000</td>\n",
       "      <td>4195.500000</td>\n",
       "      <td>1407.500000</td>\n",
       "      <td>3.200947e+06</td>\n",
       "    </tr>\n",
       "    <tr>\n",
       "      <th>75%</th>\n",
       "      <td>7.859140e+17</td>\n",
       "      <td>12.000000</td>\n",
       "      <td>10.000000</td>\n",
       "      <td>11355.250000</td>\n",
       "      <td>3278.000000</td>\n",
       "      <td>3.201000e+06</td>\n",
       "    </tr>\n",
       "    <tr>\n",
       "      <th>max</th>\n",
       "      <td>8.924206e+17</td>\n",
       "      <td>1776.000000</td>\n",
       "      <td>170.000000</td>\n",
       "      <td>132810.000000</td>\n",
       "      <td>79515.000000</td>\n",
       "      <td>3.201018e+06</td>\n",
       "    </tr>\n",
       "  </tbody>\n",
       "</table>\n",
       "</div>"
      ],
      "text/plain": [
       "           tweet_id  rating_numerator  rating_denominator  favorite_count  \\\n",
       "count  2.046000e+03       2046.000000         2046.000000     2046.000000   \n",
       "mean   7.360988e+17         12.217253           10.439883     8971.636852   \n",
       "std    6.652765e+16         40.850989            6.663557    12169.922201   \n",
       "min    6.662939e+17          0.000000           10.000000      107.000000   \n",
       "25%    6.769486e+17         10.000000           10.000000     2091.250000   \n",
       "50%    7.094844e+17         11.000000           10.000000     4195.500000   \n",
       "75%    7.859140e+17         12.000000           10.000000    11355.250000   \n",
       "max    8.924206e+17       1776.000000          170.000000   132810.000000   \n",
       "\n",
       "       retweet_count    user_count  \n",
       "count    2046.000000  2.046000e+03  \n",
       "mean     2850.594819  3.200945e+06  \n",
       "std      4732.239673  4.373784e+01  \n",
       "min        23.000000  3.200799e+06  \n",
       "25%       656.000000  3.200901e+06  \n",
       "50%      1407.500000  3.200947e+06  \n",
       "75%      3278.000000  3.201000e+06  \n",
       "max     79515.000000  3.201018e+06  "
      ]
     },
     "execution_count": 45,
     "metadata": {},
     "output_type": "execute_result"
    }
   ],
   "source": [
    "archive_master.describe()"
   ]
  },
  {
   "cell_type": "markdown",
   "metadata": {},
   "source": [
    "- which dog breed get most interactions\n",
    "- which dog stage gets most interactions\n",
    "- how is images with no dogs affect rating\n",
    "- how does rating affect interaction\n",
    "- type of relation between follower count and retweet and favorite count"
   ]
  },
  {
   "cell_type": "code",
   "execution_count": 46,
   "metadata": {},
   "outputs": [
    {
     "data": {
      "image/png": "[encoded data removed]",
      "text/plain": [
       "<Figure size 1080x1080 with 36 Axes>"
      ]
     },
     "metadata": {
      "needs_background": "light"
     },
     "output_type": "display_data"
    }
   ],
   "source": [
    "pd.plotting.scatter_matrix(archive_master.iloc[:, :-2], figsize=(15,15))\n",
    "plt.savefig('scatter_plot.png',bbox_inches='tight')"
   ]
  },
  {
   "cell_type": "code",
   "execution_count": 47,
   "metadata": {},
   "outputs": [
    {
     "data": {
      "image/png": "[encoded data removed]",
      "text/plain": [
       "<Figure size 432x288 with 1 Axes>"
      ]
     },
     "metadata": {
      "needs_background": "light"
     },
     "output_type": "display_data"
    }
   ],
   "source": [
    "archive_master.retweet_count.hist();"
   ]
  },
  {
   "cell_type": "code",
   "execution_count": 48,
   "metadata": {},
   "outputs": [
    {
     "data": {
      "image/png": "[encoded data removed]",
      "text/plain": [
       "<Figure size 648x216 with 3 Axes>"
      ]
     },
     "metadata": {
      "needs_background": "light"
     },
     "output_type": "display_data"
    }
   ],
   "source": [
    "names = archive_master.rating_numerator / archive_master.rating_denominator\n",
    "values = interaction = archive_master.favorite_count + archive_master.retweet_count\n",
    "\n",
    "plt.figure(figsize=(9, 3))\n",
    "\n",
    "plt.subplot(131)\n",
    "plt.bar(names, values)\n",
    "plt.subplot(132)\n",
    "plt.scatter(names, values)\n",
    "plt.subplot(133)\n",
    "plt.plot(names, values)\n",
    "plt.suptitle('Categorical Plotting')\n",
    "plt.show()"
   ]
  },
  {
   "cell_type": "code",
   "execution_count": 49,
   "metadata": {},
   "outputs": [
    {
     "data": {
      "text/plain": [
       "dog_stage\n",
       "doggo            6747.449275\n",
       "doggofloofer     3433.000000\n",
       "doggopupper      4237.666667\n",
       "doggopuppo      19196.000000\n",
       "floofer          4155.888889\n",
       "pupper           2506.744292\n",
       "puppo            6600.043478\n",
       "unknown          2663.436735\n",
       "Name: retweet_count, dtype: float64"
      ]
     },
     "execution_count": 49,
     "metadata": {},
     "output_type": "execute_result"
    }
   ],
   "source": [
    "archive_master.groupby([\"dog_stage\"])[\"retweet_count\"].mean()"
   ]
  },
  {
   "cell_type": "code",
   "execution_count": 50,
   "metadata": {},
   "outputs": [
    {
     "data": {
      "image/png": "[encoded data removed]",
      "text/plain": [
       "<Figure size 432x288 with 1 Axes>"
      ]
     },
     "metadata": {
      "needs_background": "light"
     },
     "output_type": "display_data"
    }
   ],
   "source": [
    "sns.set_context()\n",
    "plt.scatter(archive_master.rating_numerator, archive_master.retweet_count);"
   ]
  },
  {
   "cell_type": "code",
   "execution_count": 51,
   "metadata": {},
   "outputs": [
    {
     "data": {
      "image/png": "[encoded data removed]",
      "text/plain": [
       "<Figure size 432x288 with 1 Axes>"
      ]
     },
     "metadata": {
      "needs_background": "light"
     },
     "output_type": "display_data"
    }
   ],
   "source": [
    "archive_master['rating_ratio']=archive_master.rating_numerator / archive_master.rating_denominator\n",
    "sns.set_context()\n",
    "plt.scatter(archive_master.rating_ratio, archive_master.retweet_count);"
   ]
  },
  {
   "cell_type": "code",
   "execution_count": 52,
   "metadata": {},
   "outputs": [],
   "source": [
    "#identify outliers and capture then into separate dataframe\n",
    "ratio_outliers = archive_master[archive_master.rating_ratio > 4]\n",
    "#create list with all outliers index\n",
    "ratio_outliers_index = ratio_outliers.index.tolist()\n",
    "#remove outliers index rows from the original dataframe\n",
    "archive_master.drop(ratio_outliers_index, inplace=True)"
   ]
  },
  {
   "cell_type": "code",
   "execution_count": 53,
   "metadata": {},
   "outputs": [],
   "source": [
    "#remove rating 0\n",
    "ratio_outliers_index2 = archive_master.rating_ratio.idxmin()\n",
    "archive_master.drop(ratio_outliers_index2, inplace = True)\n"
   ]
  },
  {
   "cell_type": "code",
   "execution_count": 54,
   "metadata": {},
   "outputs": [
    {
     "data": {
      "image/png": "[encoded data removed]",
      "text/plain": [
       "<Figure size 432x288 with 1 Axes>"
      ]
     },
     "metadata": {
      "needs_background": "light"
     },
     "output_type": "display_data"
    }
   ],
   "source": [
    "sns.set_context()\n",
    "plt.scatter(archive_master.rating_ratio, archive_master.retweet_count);\n",
    "plt.savefig('scatter_rating_ratio_retweet_count.png',bbox_inches='tight')"
   ]
  },
  {
   "cell_type": "code",
   "execution_count": 55,
   "metadata": {},
   "outputs": [
    {
     "data": {
      "text/plain": [
       "True     1480\n",
       "False     562\n",
       "Name: has_name, dtype: int64"
      ]
     },
     "execution_count": 55,
     "metadata": {},
     "output_type": "execute_result"
    }
   ],
   "source": [
    "#create new columns to with boolean True and False to study relation between dog name and rating and interactions\n",
    "archive_master['has_name']= archive_master['name'] != 'None'\n",
    "archive_master['has_name'].value_counts()"
   ]
  },
  {
   "cell_type": "code",
   "execution_count": 57,
   "metadata": {},
   "outputs": [],
   "source": [
    "#create new column with sum favorite an retweet\n",
    "archive_master['interactions']= archive_master.favorite_count + archive_master.retweet_count"
   ]
  },
  {
   "cell_type": "code",
   "execution_count": 58,
   "metadata": {},
   "outputs": [
    {
     "data": {
      "image/png": "[encoded data removed]",
      "text/plain": [
       "<Figure size 432x288 with 1 Axes>"
      ]
     },
     "metadata": {
      "needs_background": "light"
     },
     "output_type": "display_data"
    },
    {
     "data": {
      "text/plain": [
       "<Figure size 432x288 with 0 Axes>"
      ]
     },
     "metadata": {},
     "output_type": "display_data"
    }
   ],
   "source": [
    "# set data\n",
    "x = archive_master.has_name\n",
    "y = archive_master.interactions\n",
    "\n",
    "# Create bars and choose color\n",
    "plt.bar(x, y, color = (0.5,0.1,0.5,0.6))\n",
    " \n",
    "# Add title and axis names\n",
    "plt.title('dog name effect on retweets and favorite')\n",
    "plt.xlabel('if tweet contain dog name')\n",
    "plt.ylabel('retweet + facorite') \n",
    " \n",
    "# Show graphic\n",
    "plt.show()\n",
    "\n",
    "# save fig.\n",
    "plt.savefig('dog name effect on retweets and favorite.png')"
   ]
  },
  {
   "cell_type": "markdown",
   "metadata": {},
   "source": [
    "#### tweets with dog name has roughly the same average rating"
   ]
  },
  {
   "cell_type": "code",
   "execution_count": 59,
   "metadata": {},
   "outputs": [
    {
     "data": {
      "text/html": [
       "<div>\n",
       "<style scoped>\n",
       "    .dataframe tbody tr th:only-of-type {\n",
       "        vertical-align: middle;\n",
       "    }\n",
       "\n",
       "    .dataframe tbody tr th {\n",
       "        vertical-align: top;\n",
       "    }\n",
       "\n",
       "    .dataframe thead tr th {\n",
       "        text-align: left;\n",
       "    }\n",
       "\n",
       "    .dataframe thead tr:last-of-type th {\n",
       "        text-align: right;\n",
       "    }\n",
       "</style>\n",
       "<table border=\"1\" class=\"dataframe\">\n",
       "  <thead>\n",
       "    <tr>\n",
       "      <th></th>\n",
       "      <th colspan=\"8\" halign=\"left\">tweet_id</th>\n",
       "      <th colspan=\"2\" halign=\"left\">rating_numerator</th>\n",
       "      <th>...</th>\n",
       "      <th colspan=\"2\" halign=\"left\">rating_ratio</th>\n",
       "      <th colspan=\"8\" halign=\"left\">interactions</th>\n",
       "    </tr>\n",
       "    <tr>\n",
       "      <th></th>\n",
       "      <th>count</th>\n",
       "      <th>mean</th>\n",
       "      <th>std</th>\n",
       "      <th>min</th>\n",
       "      <th>25%</th>\n",
       "      <th>50%</th>\n",
       "      <th>75%</th>\n",
       "      <th>max</th>\n",
       "      <th>count</th>\n",
       "      <th>mean</th>\n",
       "      <th>...</th>\n",
       "      <th>75%</th>\n",
       "      <th>max</th>\n",
       "      <th>count</th>\n",
       "      <th>mean</th>\n",
       "      <th>std</th>\n",
       "      <th>min</th>\n",
       "      <th>25%</th>\n",
       "      <th>50%</th>\n",
       "      <th>75%</th>\n",
       "      <th>max</th>\n",
       "    </tr>\n",
       "    <tr>\n",
       "      <th>dog_stage</th>\n",
       "      <th></th>\n",
       "      <th></th>\n",
       "      <th></th>\n",
       "      <th></th>\n",
       "      <th></th>\n",
       "      <th></th>\n",
       "      <th></th>\n",
       "      <th></th>\n",
       "      <th></th>\n",
       "      <th></th>\n",
       "      <th></th>\n",
       "      <th></th>\n",
       "      <th></th>\n",
       "      <th></th>\n",
       "      <th></th>\n",
       "      <th></th>\n",
       "      <th></th>\n",
       "      <th></th>\n",
       "      <th></th>\n",
       "      <th></th>\n",
       "      <th></th>\n",
       "    </tr>\n",
       "  </thead>\n",
       "  <tbody>\n",
       "    <tr>\n",
       "      <th>doggo</th>\n",
       "      <td>69.0</td>\n",
       "      <td>7.942417e+17</td>\n",
       "      <td>4.446550e+16</td>\n",
       "      <td>7.160809e+17</td>\n",
       "      <td>7.526821e+17</td>\n",
       "      <td>7.964848e+17</td>\n",
       "      <td>8.283816e+17</td>\n",
       "      <td>8.902403e+17</td>\n",
       "      <td>69.0</td>\n",
       "      <td>11.826087</td>\n",
       "      <td>...</td>\n",
       "      <td>1.3</td>\n",
       "      <td>1.4</td>\n",
       "      <td>69.0</td>\n",
       "      <td>25017.072464</td>\n",
       "      <td>33531.495489</td>\n",
       "      <td>3318.0</td>\n",
       "      <td>9025.0</td>\n",
       "      <td>15901.0</td>\n",
       "      <td>24358.0</td>\n",
       "      <td>210590.0</td>\n",
       "    </tr>\n",
       "    <tr>\n",
       "      <th>doggofloofer</th>\n",
       "      <td>1.0</td>\n",
       "      <td>8.540102e+17</td>\n",
       "      <td>NaN</td>\n",
       "      <td>8.540102e+17</td>\n",
       "      <td>8.540102e+17</td>\n",
       "      <td>8.540102e+17</td>\n",
       "      <td>8.540102e+17</td>\n",
       "      <td>8.540102e+17</td>\n",
       "      <td>1.0</td>\n",
       "      <td>11.000000</td>\n",
       "      <td>...</td>\n",
       "      <td>1.1</td>\n",
       "      <td>1.1</td>\n",
       "      <td>1.0</td>\n",
       "      <td>20602.000000</td>\n",
       "      <td>NaN</td>\n",
       "      <td>20602.0</td>\n",
       "      <td>20602.0</td>\n",
       "      <td>20602.0</td>\n",
       "      <td>20602.0</td>\n",
       "      <td>20602.0</td>\n",
       "    </tr>\n",
       "    <tr>\n",
       "      <th>doggopupper</th>\n",
       "      <td>9.0</td>\n",
       "      <td>7.755001e+17</td>\n",
       "      <td>3.050515e+16</td>\n",
       "      <td>7.331095e+17</td>\n",
       "      <td>7.515838e+17</td>\n",
       "      <td>7.813081e+17</td>\n",
       "      <td>8.011151e+17</td>\n",
       "      <td>8.177777e+17</td>\n",
       "      <td>9.0</td>\n",
       "      <td>11.111111</td>\n",
       "      <td>...</td>\n",
       "      <td>1.2</td>\n",
       "      <td>1.3</td>\n",
       "      <td>9.0</td>\n",
       "      <td>16874.555556</td>\n",
       "      <td>17210.212725</td>\n",
       "      <td>6114.0</td>\n",
       "      <td>10934.0</td>\n",
       "      <td>11421.0</td>\n",
       "      <td>13862.0</td>\n",
       "      <td>62240.0</td>\n",
       "    </tr>\n",
       "    <tr>\n",
       "      <th>doggopuppo</th>\n",
       "      <td>1.0</td>\n",
       "      <td>8.558515e+17</td>\n",
       "      <td>NaN</td>\n",
       "      <td>8.558515e+17</td>\n",
       "      <td>8.558515e+17</td>\n",
       "      <td>8.558515e+17</td>\n",
       "      <td>8.558515e+17</td>\n",
       "      <td>8.558515e+17</td>\n",
       "      <td>1.0</td>\n",
       "      <td>13.000000</td>\n",
       "      <td>...</td>\n",
       "      <td>1.3</td>\n",
       "      <td>1.3</td>\n",
       "      <td>1.0</td>\n",
       "      <td>67040.000000</td>\n",
       "      <td>NaN</td>\n",
       "      <td>67040.0</td>\n",
       "      <td>67040.0</td>\n",
       "      <td>67040.0</td>\n",
       "      <td>67040.0</td>\n",
       "      <td>67040.0</td>\n",
       "    </tr>\n",
       "    <tr>\n",
       "      <th>floofer</th>\n",
       "      <td>9.0</td>\n",
       "      <td>7.558218e+17</td>\n",
       "      <td>6.012909e+16</td>\n",
       "      <td>6.853075e+17</td>\n",
       "      <td>7.338223e+17</td>\n",
       "      <td>7.465429e+17</td>\n",
       "      <td>7.762182e+17</td>\n",
       "      <td>8.833607e+17</td>\n",
       "      <td>9.0</td>\n",
       "      <td>11.888889</td>\n",
       "      <td>...</td>\n",
       "      <td>1.3</td>\n",
       "      <td>1.3</td>\n",
       "      <td>9.0</td>\n",
       "      <td>15220.333333</td>\n",
       "      <td>15837.254742</td>\n",
       "      <td>2136.0</td>\n",
       "      <td>5156.0</td>\n",
       "      <td>8585.0</td>\n",
       "      <td>16350.0</td>\n",
       "      <td>51842.0</td>\n",
       "    </tr>\n",
       "    <tr>\n",
       "      <th>pupper</th>\n",
       "      <td>219.0</td>\n",
       "      <td>7.185043e+17</td>\n",
       "      <td>5.490658e+16</td>\n",
       "      <td>6.721600e+17</td>\n",
       "      <td>6.801233e+17</td>\n",
       "      <td>6.936300e+17</td>\n",
       "      <td>7.412103e+17</td>\n",
       "      <td>8.863661e+17</td>\n",
       "      <td>219.0</td>\n",
       "      <td>10.794521</td>\n",
       "      <td>...</td>\n",
       "      <td>1.2</td>\n",
       "      <td>2.7</td>\n",
       "      <td>219.0</td>\n",
       "      <td>9812.872146</td>\n",
       "      <td>14166.775018</td>\n",
       "      <td>796.0</td>\n",
       "      <td>3164.5</td>\n",
       "      <td>4611.0</td>\n",
       "      <td>10439.0</td>\n",
       "      <td>139710.0</td>\n",
       "    </tr>\n",
       "    <tr>\n",
       "      <th>puppo</th>\n",
       "      <td>23.0</td>\n",
       "      <td>8.079175e+17</td>\n",
       "      <td>4.958257e+16</td>\n",
       "      <td>7.385375e+17</td>\n",
       "      <td>7.686037e+17</td>\n",
       "      <td>8.022393e+17</td>\n",
       "      <td>8.425714e+17</td>\n",
       "      <td>8.896654e+17</td>\n",
       "      <td>23.0</td>\n",
       "      <td>12.000000</td>\n",
       "      <td>...</td>\n",
       "      <td>1.3</td>\n",
       "      <td>1.4</td>\n",
       "      <td>23.0</td>\n",
       "      <td>28222.608696</td>\n",
       "      <td>37361.698996</td>\n",
       "      <td>3993.0</td>\n",
       "      <td>8677.5</td>\n",
       "      <td>17680.0</td>\n",
       "      <td>27992.0</td>\n",
       "      <td>181075.0</td>\n",
       "    </tr>\n",
       "    <tr>\n",
       "      <th>unknown</th>\n",
       "      <td>1711.0</td>\n",
       "      <td>7.345333e+17</td>\n",
       "      <td>6.702747e+16</td>\n",
       "      <td>6.662939e+17</td>\n",
       "      <td>6.754991e+17</td>\n",
       "      <td>7.079958e+17</td>\n",
       "      <td>7.844745e+17</td>\n",
       "      <td>8.924206e+17</td>\n",
       "      <td>1711.0</td>\n",
       "      <td>11.127119</td>\n",
       "      <td>...</td>\n",
       "      <td>1.2</td>\n",
       "      <td>2.6</td>\n",
       "      <td>1711.0</td>\n",
       "      <td>11228.192285</td>\n",
       "      <td>14991.945456</td>\n",
       "      <td>130.0</td>\n",
       "      <td>2492.0</td>\n",
       "      <td>5325.0</td>\n",
       "      <td>14223.5</td>\n",
       "      <td>163640.0</td>\n",
       "    </tr>\n",
       "  </tbody>\n",
       "</table>\n",
       "<p>8 rows × 64 columns</p>\n",
       "</div>"
      ],
      "text/plain": [
       "             tweet_id                                                          \\\n",
       "                count          mean           std           min           25%   \n",
       "dog_stage                                                                       \n",
       "doggo            69.0  7.942417e+17  4.446550e+16  7.160809e+17  7.526821e+17   \n",
       "doggofloofer      1.0  8.540102e+17           NaN  8.540102e+17  8.540102e+17   \n",
       "doggopupper       9.0  7.755001e+17  3.050515e+16  7.331095e+17  7.515838e+17   \n",
       "doggopuppo        1.0  8.558515e+17           NaN  8.558515e+17  8.558515e+17   \n",
       "floofer           9.0  7.558218e+17  6.012909e+16  6.853075e+17  7.338223e+17   \n",
       "pupper          219.0  7.185043e+17  5.490658e+16  6.721600e+17  6.801233e+17   \n",
       "puppo            23.0  8.079175e+17  4.958257e+16  7.385375e+17  7.686037e+17   \n",
       "unknown        1711.0  7.345333e+17  6.702747e+16  6.662939e+17  6.754991e+17   \n",
       "\n",
       "                                                       rating_numerator  \\\n",
       "                       50%           75%           max            count   \n",
       "dog_stage                                                                 \n",
       "doggo         7.964848e+17  8.283816e+17  8.902403e+17             69.0   \n",
       "doggofloofer  8.540102e+17  8.540102e+17  8.540102e+17              1.0   \n",
       "doggopupper   7.813081e+17  8.011151e+17  8.177777e+17              9.0   \n",
       "doggopuppo    8.558515e+17  8.558515e+17  8.558515e+17              1.0   \n",
       "floofer       7.465429e+17  7.762182e+17  8.833607e+17              9.0   \n",
       "pupper        6.936300e+17  7.412103e+17  8.863661e+17            219.0   \n",
       "puppo         8.022393e+17  8.425714e+17  8.896654e+17             23.0   \n",
       "unknown       7.079958e+17  7.844745e+17  8.924206e+17           1711.0   \n",
       "\n",
       "                         ... rating_ratio      interactions                \\\n",
       "                   mean  ...          75%  max        count          mean   \n",
       "dog_stage                ...                                                \n",
       "doggo         11.826087  ...          1.3  1.4         69.0  25017.072464   \n",
       "doggofloofer  11.000000  ...          1.1  1.1          1.0  20602.000000   \n",
       "doggopupper   11.111111  ...          1.2  1.3          9.0  16874.555556   \n",
       "doggopuppo    13.000000  ...          1.3  1.3          1.0  67040.000000   \n",
       "floofer       11.888889  ...          1.3  1.3          9.0  15220.333333   \n",
       "pupper        10.794521  ...          1.2  2.7        219.0   9812.872146   \n",
       "puppo         12.000000  ...          1.3  1.4         23.0  28222.608696   \n",
       "unknown       11.127119  ...          1.2  2.6       1711.0  11228.192285   \n",
       "\n",
       "                                                                          \n",
       "                       std      min      25%      50%      75%       max  \n",
       "dog_stage                                                                 \n",
       "doggo         33531.495489   3318.0   9025.0  15901.0  24358.0  210590.0  \n",
       "doggofloofer           NaN  20602.0  20602.0  20602.0  20602.0   20602.0  \n",
       "doggopupper   17210.212725   6114.0  10934.0  11421.0  13862.0   62240.0  \n",
       "doggopuppo             NaN  67040.0  67040.0  67040.0  67040.0   67040.0  \n",
       "floofer       15837.254742   2136.0   5156.0   8585.0  16350.0   51842.0  \n",
       "pupper        14166.775018    796.0   3164.5   4611.0  10439.0  139710.0  \n",
       "puppo         37361.698996   3993.0   8677.5  17680.0  27992.0  181075.0  \n",
       "unknown       14991.945456    130.0   2492.0   5325.0  14223.5  163640.0  \n",
       "\n",
       "[8 rows x 64 columns]"
      ]
     },
     "execution_count": 59,
     "metadata": {},
     "output_type": "execute_result"
    }
   ],
   "source": [
    "archive_master.groupby(['dog_stage']).describe()"
   ]
  },
  {
   "cell_type": "code",
   "execution_count": 60,
   "metadata": {},
   "outputs": [
    {
     "data": {
      "image/png": "[encoded data removed]",
      "text/plain": [
       "<Figure size 1080x432 with 1 Axes>"
      ]
     },
     "metadata": {
      "needs_background": "light"
     },
     "output_type": "display_data"
    }
   ],
   "source": [
    "# which dog stage gets most interactions and ratings\n",
    "# group by dog_stage and save to new dataframe\n",
    "stage_df = archive_master.groupby(['dog_stage'])['interactions'].describe()\n",
    "# drop rows that represent more than one stage\n",
    "stage_df.drop(['unknown','doggofloofer','doggopupper','doggopuppo'], axis=0 ,inplace=True)\n",
    "# create plot\n",
    "stage_df.plot(y='mean', use_index=True, figsize=(15,6), label='Average Rating')\n",
    "# save fig\n",
    "plt.savefig('Dog_stage_vs_rating.png')"
   ]
  },
  {
   "cell_type": "markdown",
   "metadata": {},
   "source": [
    "#### images with puppo dogs in it have higher ratings"
   ]
  },
  {
   "cell_type": "code",
   "execution_count": 61,
   "metadata": {},
   "outputs": [],
   "source": [
    "# how is tweets with no dogs rated \n",
    "# group by is_dog_image and save to new dataframe\n",
    "is_dog_df = archive_master.groupby(['is_dog_image'])['rating_ratio'].describe()\n",
    "\n",
    "#"
   ]
  },
  {
   "cell_type": "code",
   "execution_count": 62,
   "metadata": {},
   "outputs": [
    {
     "data": {
      "image/png": "[encoded data removed]",
      "text/plain": [
       "<Figure size 432x288 with 1 Axes>"
      ]
     },
     "metadata": {
      "needs_background": "light"
     },
     "output_type": "display_data"
    },
    {
     "data": {
      "text/plain": [
       "<Figure size 432x288 with 0 Axes>"
      ]
     },
     "metadata": {},
     "output_type": "display_data"
    }
   ],
   "source": [
    "#how is tweets with no dogs rated \n",
    "# set data\n",
    "x = archive_master.is_dog_image\n",
    "y = archive_master.rating_ratio\n",
    "x_p = ('False','True')\n",
    "# Create bars and choose color\n",
    "plt.bar(x, y, color = (0.5,0.1,0.5,0.6))\n",
    " \n",
    "# Add title and axis names\n",
    "plt.title('Rating of dog image Vs. no dog image')\n",
    "plt.xlabel('')\n",
    "plt.ylabel('rating') \n",
    "\n",
    "# Show graphic\n",
    "plt.show()\n",
    "\n",
    "# save fig.\n",
    "plt.savefig('dog vs no dog.png')"
   ]
  },
  {
   "cell_type": "code",
   "execution_count": 63,
   "metadata": {},
   "outputs": [
    {
     "data": {
      "text/html": [
       "<div>\n",
       "<style scoped>\n",
       "    .dataframe tbody tr th:only-of-type {\n",
       "        vertical-align: middle;\n",
       "    }\n",
       "\n",
       "    .dataframe tbody tr th {\n",
       "        vertical-align: top;\n",
       "    }\n",
       "\n",
       "    .dataframe thead th {\n",
       "        text-align: right;\n",
       "    }\n",
       "</style>\n",
       "<table border=\"1\" class=\"dataframe\">\n",
       "  <thead>\n",
       "    <tr style=\"text-align: right;\">\n",
       "      <th></th>\n",
       "      <th>count</th>\n",
       "      <th>mean</th>\n",
       "      <th>std</th>\n",
       "      <th>min</th>\n",
       "      <th>25%</th>\n",
       "      <th>50%</th>\n",
       "      <th>75%</th>\n",
       "      <th>max</th>\n",
       "    </tr>\n",
       "    <tr>\n",
       "      <th>is_dog_image</th>\n",
       "      <th></th>\n",
       "      <th></th>\n",
       "      <th></th>\n",
       "      <th></th>\n",
       "      <th></th>\n",
       "      <th></th>\n",
       "      <th></th>\n",
       "      <th></th>\n",
       "    </tr>\n",
       "  </thead>\n",
       "  <tbody>\n",
       "    <tr>\n",
       "      <th>False</th>\n",
       "      <td>530.0</td>\n",
       "      <td>13519.803774</td>\n",
       "      <td>17400.607292</td>\n",
       "      <td>256.0</td>\n",
       "      <td>3534.75</td>\n",
       "      <td>7657.0</td>\n",
       "      <td>16856.75</td>\n",
       "      <td>181075.0</td>\n",
       "    </tr>\n",
       "    <tr>\n",
       "      <th>True</th>\n",
       "      <td>1512.0</td>\n",
       "      <td>11208.170635</td>\n",
       "      <td>16280.750164</td>\n",
       "      <td>130.0</td>\n",
       "      <td>2528.00</td>\n",
       "      <td>5133.0</td>\n",
       "      <td>13529.75</td>\n",
       "      <td>210590.0</td>\n",
       "    </tr>\n",
       "  </tbody>\n",
       "</table>\n",
       "</div>"
      ],
      "text/plain": [
       "               count          mean           std    min      25%     50%  \\\n",
       "is_dog_image                                                               \n",
       "False          530.0  13519.803774  17400.607292  256.0  3534.75  7657.0   \n",
       "True          1512.0  11208.170635  16280.750164  130.0  2528.00  5133.0   \n",
       "\n",
       "                   75%       max  \n",
       "is_dog_image                      \n",
       "False         16856.75  181075.0  \n",
       "True          13529.75  210590.0  "
      ]
     },
     "execution_count": 63,
     "metadata": {},
     "output_type": "execute_result"
    }
   ],
   "source": [
    "\n",
    "archive_master.groupby(['is_dog_image'])['interactions'].describe()"
   ]
  },
  {
   "cell_type": "code",
   "execution_count": 64,
   "metadata": {},
   "outputs": [
    {
     "data": {
      "text/plain": [
       "count     2042.000000\n",
       "mean      2847.555828\n",
       "std       4735.822441\n",
       "min         23.000000\n",
       "25%        654.500000\n",
       "50%       1404.000000\n",
       "75%       3264.000000\n",
       "max      79515.000000\n",
       "Name: retweet_count, dtype: float64"
      ]
     },
     "execution_count": 64,
     "metadata": {},
     "output_type": "execute_result"
    }
   ],
   "source": [
    "archive_master.retweet_count.describe()"
   ]
  },
  {
   "cell_type": "code",
   "execution_count": 65,
   "metadata": {},
   "outputs": [
    {
     "data": {
      "image/png": "[encoded data removed]",
      "text/plain": [
       "<Figure size 432x288 with 1 Axes>"
      ]
     },
     "metadata": {
      "needs_background": "light"
     },
     "output_type": "display_data"
    }
   ],
   "source": [
    "sns.set_context()\n",
    "plt.scatter(archive_master.user_count, archive_master.retweet_count);"
   ]
  },
  {
   "cell_type": "markdown",
   "metadata": {},
   "source": [
    "- favorit and retweet count are highly affected by follower count"
   ]
  },
  {
   "cell_type": "code",
   "execution_count": 66,
   "metadata": {},
   "outputs": [
    {
     "data": {
      "text/html": [
       "<div>\n",
       "<style scoped>\n",
       "    .dataframe tbody tr th:only-of-type {\n",
       "        vertical-align: middle;\n",
       "    }\n",
       "\n",
       "    .dataframe tbody tr th {\n",
       "        vertical-align: top;\n",
       "    }\n",
       "\n",
       "    .dataframe thead th {\n",
       "        text-align: right;\n",
       "    }\n",
       "</style>\n",
       "<table border=\"1\" class=\"dataframe\">\n",
       "  <thead>\n",
       "    <tr style=\"text-align: right;\">\n",
       "      <th></th>\n",
       "      <th>count</th>\n",
       "      <th>mean</th>\n",
       "      <th>std</th>\n",
       "      <th>min</th>\n",
       "      <th>25%</th>\n",
       "      <th>50%</th>\n",
       "      <th>75%</th>\n",
       "      <th>max</th>\n",
       "    </tr>\n",
       "    <tr>\n",
       "      <th>is_dog_image</th>\n",
       "      <th></th>\n",
       "      <th></th>\n",
       "      <th></th>\n",
       "      <th></th>\n",
       "      <th></th>\n",
       "      <th></th>\n",
       "      <th></th>\n",
       "      <th></th>\n",
       "    </tr>\n",
       "  </thead>\n",
       "  <tbody>\n",
       "    <tr>\n",
       "      <th>False</th>\n",
       "      <td>530.0</td>\n",
       "      <td>4.223736</td>\n",
       "      <td>5.436164</td>\n",
       "      <td>0.079975</td>\n",
       "      <td>1.104282</td>\n",
       "      <td>2.392103</td>\n",
       "      <td>5.266266</td>\n",
       "      <td>56.570133</td>\n",
       "    </tr>\n",
       "    <tr>\n",
       "      <th>True</th>\n",
       "      <td>1512.0</td>\n",
       "      <td>3.501551</td>\n",
       "      <td>5.086296</td>\n",
       "      <td>0.040612</td>\n",
       "      <td>0.789752</td>\n",
       "      <td>1.603572</td>\n",
       "      <td>4.226831</td>\n",
       "      <td>65.789988</td>\n",
       "    </tr>\n",
       "  </tbody>\n",
       "</table>\n",
       "</div>"
      ],
      "text/plain": [
       "               count      mean       std       min       25%       50%  \\\n",
       "is_dog_image                                                             \n",
       "False          530.0  4.223736  5.436164  0.079975  1.104282  2.392103   \n",
       "True          1512.0  3.501551  5.086296  0.040612  0.789752  1.603572   \n",
       "\n",
       "                   75%        max  \n",
       "is_dog_image                       \n",
       "False         5.266266  56.570133  \n",
       "True          4.226831  65.789988  "
      ]
     },
     "execution_count": 66,
     "metadata": {},
     "output_type": "execute_result"
    }
   ],
   "source": [
    "#create new column relative_interaction \n",
    "archive_master['relative_interactions']= 1000 *(archive_master.favorite_count + archive_master.retweet_count)/ archive_master.user_count \n",
    "archive_master.groupby(['is_dog_image'])['relative_interactions'].describe()"
   ]
  },
  {
   "cell_type": "markdown",
   "metadata": {},
   "source": [
    "- images with no dog have higher retweet an favorite count"
   ]
  },
  {
   "cell_type": "code",
   "execution_count": 67,
   "metadata": {},
   "outputs": [
    {
     "data": {
      "text/plain": [
       "Golden_Retriever      149\n",
       "Labrador_Retriever     99\n",
       "Pembroke               88\n",
       "Chihuahua              80\n",
       "Pug                    56\n",
       "                     ... \n",
       "Lorikeet                1\n",
       "Clumber                 1\n",
       "Dining_Table            1\n",
       "Bald_Eagle              1\n",
       "Quilt                   1\n",
       "Name: dog_breed_prediction, Length: 374, dtype: int64"
      ]
     },
     "execution_count": 67,
     "metadata": {},
     "output_type": "execute_result"
    }
   ],
   "source": [
    "archive_master['dog_breed_prediction'].value_counts()"
   ]
  },
  {
   "cell_type": "code",
   "execution_count": 68,
   "metadata": {},
   "outputs": [
    {
     "data": {
      "image/png": "[encoded data removed]",
      "text/plain": [
       "<Figure size 1296x432 with 1 Axes>"
      ]
     },
     "metadata": {
      "needs_background": "light"
     },
     "output_type": "display_data"
    }
   ],
   "source": [
    "# which dog breed gets most interactions and ratings\n",
    "# group by dog_breed_prediction and save to new dataframe\n",
    "breed_df = archive_master.groupby(['dog_breed_prediction'])['rating_ratio'].describe()\n",
    "breed_df.sort_values('mean',axis=0, inplace=True, ascending=False)\n",
    "# create plot\n",
    "breed_df.plot(y='mean', use_index=True, figsize=(18,6), label='dog breed rating', grid= True, sort_columns=True)\n",
    "# save fig\n",
    "plt.savefig('Dog_breed_rating.png')"
   ]
  },
  {
   "cell_type": "code",
   "execution_count": 69,
   "metadata": {},
   "outputs": [
    {
     "data": {
      "text/plain": [
       "'Three-Toed_Sloth'"
      ]
     },
     "execution_count": 69,
     "metadata": {},
     "output_type": "execute_result"
    }
   ],
   "source": [
    "breed_df['mean'].idxmax()"
   ]
  },
  {
   "cell_type": "code",
   "execution_count": 70,
   "metadata": {
    "scrolled": true
   },
   "outputs": [
    {
     "data": {
      "image/png": "[encoded data removed]",
      "text/plain": [
       "<Figure size 1080x432 with 1 Axes>"
      ]
     },
     "metadata": {
      "needs_background": "light"
     },
     "output_type": "display_data"
    }
   ],
   "source": [
    "plt.subplots(figsize=(15, 6))\n",
    "plt.scatter(archive_master.rating_ratio, archive_master.retweet_count,marker='^',alpha=0.25 ,label=\"Retweets\")\n",
    "plt.scatter(archive_master.rating_ratio, archive_master.favorite_count,marker='o', alpha=0.25,label=\"Favorites\")\n",
    "\n",
    "# add title and axis names\n",
    "plt.title('Rating and interactions relation\\n', fontsize=14, weight='bold')\n",
    "plt.xlabel('\\nRating', weight='bold')\n",
    "plt.ylabel('Retweet and favorit\\n', weight='bold')\n",
    "plt.legend();\n",
    "plt.savefig('Rating and interactions relation.png')"
   ]
  },
  {
   "cell_type": "markdown",
   "metadata": {},
   "source": [
    "- tweets with high ratings gets more interactions"
   ]
  },
  {
   "cell_type": "markdown",
   "metadata": {},
   "source": [
    "# Analysis insights:\n",
    "- tweets with high ratings gets more interactions\n",
    "- images with no dog have higher retweet an favorite count\n",
    "- favorit and retweet count are highly affected by follower count\n",
    "- images with puppo dogs in it have higher ratings\n",
    "- tweets with dog name have higher retweet count and favorite count\n",
    "- African_Hunting_Dog is the most rated dog"
   ]
  },
  {
   "cell_type": "code",
   "execution_count": 71,
   "metadata": {},
   "outputs": [],
   "source": [
    "# save modified DataFrame:\n",
    "archive_master.to_csv('twitter_archive_master.csv', index=False)"
   ]
  },
  {
   "cell_type": "code",
   "execution_count": null,
   "metadata": {},
   "outputs": [],
   "source": []
  }
 ],
 "metadata": {
  "kernelspec": {
   "display_name": "Python 3",
   "language": "python",
   "name": "python3"
  },
  "language_info": {
   "codemirror_mode": {
    "name": "ipython",
    "version": 3
   },
   "file_extension": ".py",
   "mimetype": "text/x-python",
   "name": "python",
   "nbconvert_exporter": "python",
   "pygments_lexer": "ipython3",
   "version": "3.8.5"
  }
 },
 "nbformat": 4,
 "nbformat_minor": 4
}
